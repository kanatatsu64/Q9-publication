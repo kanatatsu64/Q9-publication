{
 "cells": [
  {
   "cell_type": "markdown",
   "metadata": {},
   "source": [
    "# 進め方\n",
    "\n",
    "前提となる議論を理解する。\n",
    "\n",
    "- [ ] 2.1 古典粒子系に対する揺動散逸定理\n",
    "- [ ] 2.2 線形応答理論\n",
    "    - [ ] 2.2.1 力学応答の線形応答\n",
    "        - [ ] 2.2.1.1 一般論\n",
    "        - [ ] 2.2.1.2 クラマース・クローニッヒ関係\n",
    "\n",
    "とりあえず、パワーロスの項目について全ての工程を試す。\n",
    "\n",
    "||議論の流れを追う|紙に書き出す|資料にまとめる|論点をコメントに残す|\n",
    "|:-|:-:|:-:|:-:|:-:|\n",
    "|力学応答の揺動散逸定理|-|-|-|-|\n",
    "|パワーロス||||\n",
    "|揺動散逸定理||||\n",
    "|分布応答の線形応答と揺動散逸定理||||"
   ]
  },
  {
   "cell_type": "markdown",
   "metadata": {},
   "source": [
    "## 予備知識"
   ]
  },
  {
   "cell_type": "markdown",
   "metadata": {},
   "source": [
    "- トレースの循環性"
   ]
  },
  {
   "cell_type": "markdown",
   "metadata": {},
   "source": [
    "$$\n",
    "\\begin{align*}\n",
    "\\text{Tr}[AB\\cdots Z] &= A_{ij}B_{j\\cdot}\\cdots Z_{\\cdot i} \\\\\n",
    "&= B_{j\\cdot} \\cdots Z_{\\cdot i} A_{i j} \\\\\n",
    "&= \\text{Tr}[B\\cdots ZA]\n",
    "\\end{align*}\n",
    "$$"
   ]
  },
  {
   "cell_type": "markdown",
   "metadata": {},
   "source": [
    "- 分布関数$\\pi$の位置"
   ]
  },
  {
   "cell_type": "markdown",
   "metadata": {},
   "source": [
    "$$\n",
    "\\begin{align*}\n",
    "\\langle A B \\rangle_{eq} &= \\sum_{\\psi} \\bra{\\psi} A B \\pi \\ket{\\psi} \\\\\n",
    "&= \\text{Tr}\\left[ A B \\pi \\right] \\\\\n",
    "&= \\text{Tr}\\left[ \\pi A B \\right] \\ \\ \\ \\ \\ (\\because \\text{トレースの循環性}) \\\\\n",
    "&= \\text{Tr}\\left[ B \\pi A \\right] \\ \\ \\ \\ \\ (\\because \\text{トレースの循環性}) \\\\\n",
    "&\\neq \\text{Tr}\\left[ \\pi B A \\right] \\ \\ \\ \\ \\ (ie. \\neq \\langle B A \\rangle_{eq}) \\\\\n",
    "\\end{align*}\n",
    "$$"
   ]
  },
  {
   "cell_type": "markdown",
   "metadata": {},
   "source": [
    "- 時間発展演算子"
   ]
  },
  {
   "cell_type": "markdown",
   "metadata": {},
   "source": [
    "$$\n",
    "U_{(t)} = e^{-\\frac{i}{h}Ht}\n",
    "$$"
   ]
  },
  {
   "cell_type": "markdown",
   "metadata": {},
   "source": [
    "$$\n",
    "\\begin{align*}\n",
    "A_{(t)} &= U^{\\dagger}_{(t)} A U_{(t)} \\\\\n",
    "\\dot{A}_{(t)} &= \\frac{d}{dt} \\left( U^{\\dagger}_{(t)} A U_{(t)} \\right) \\\\\n",
    "&= U^{\\dagger}_{(t)} \\frac{i}{\\hbar} H A U_{(t)} - U^{\\dagger}_{(t)} A \\frac{i}{\\hbar} H U_{(t)} \\\\\n",
    "&= U^{\\dagger}_{(t)} \\frac{i}{\\hbar} [H, A] U_{(t)} \\\\\n",
    "&= U^{\\dagger}_{(t)} \\dot{A} U_{(t)}\n",
    "\\end{align*}\n",
    "$$"
   ]
  },
  {
   "cell_type": "markdown",
   "metadata": {},
   "source": [
    "- 平衡状態の時間非依存性"
   ]
  },
  {
   "cell_type": "markdown",
   "metadata": {},
   "source": [
    "$$\n",
    "\\langle A_{(t)} \\rangle_{eq} = \\langle A \\rangle_{eq}\n",
    "$$"
   ]
  },
  {
   "cell_type": "markdown",
   "metadata": {},
   "source": [
    "$$\n",
    "\\langle A_{(t)} B_{(\\tau)} \\rangle_{eq} = \\langle A B_{(\\tau - t)} \\rangle_{eq}\n",
    "$$"
   ]
  },
  {
   "cell_type": "markdown",
   "metadata": {},
   "source": [
    "$$\n",
    "\\langle e^{\\alpha} A e^{-\\alpha} \\rangle_{eq} = \\langle A \\rangle_{eq} \\ \\ \\ \\ \\ (\\forall \\alpha \\in C)\n",
    "$$"
   ]
  },
  {
   "cell_type": "markdown",
   "metadata": {},
   "source": [
    "- 微分が入った時間相関関数 $\\cdots (公式1)$"
   ]
  },
  {
   "cell_type": "markdown",
   "metadata": {},
   "source": [
    "$$\n",
    "\\begin{align*}\n",
    "\\left\\langle \\dot{B}_{(\\tau)} A_{(t)} \\right\\rangle_{eq} &= \\left\\langle \\left( \\frac{d}{d\\tau} B_{(\\tau)} \\right) A_{(t)} \\right\\rangle_{eq} \\\\\n",
    "&= \\frac{d}{d\\tau} \\left\\langle B_{(\\tau)} A_{(t)} \\right\\rangle_{eq} \\\\\n",
    "&= \\frac{d}{d\\tau} \\left\\langle B A_{(t - \\tau)} \\right\\rangle_{eq} \\\\\n",
    "&= - \\frac{d}{dt} \\left\\langle B A_{(t - \\tau)} \\right\\rangle_{eq} \\\\\n",
    "&= - \\left\\langle B \\dot{A}_{(t - \\tau)} \\right\\rangle_{eq} \\\\\n",
    "\\end{align*}\n",
    "$$"
   ]
  },
  {
   "cell_type": "markdown",
   "metadata": {},
   "source": [
    "# 2.2.2 力学応答の揺動散逸定理 (P. 27)"
   ]
  },
  {
   "cell_type": "markdown",
   "metadata": {},
   "source": [
    "##  § 2.2.2.1 パワーロス (P. 27)"
   ]
  },
  {
   "cell_type": "markdown",
   "metadata": {},
   "source": [
    "$$\n",
    "H_{tot} = H - BF_{(t)}\n",
    "$$"
   ]
  },
  {
   "cell_type": "markdown",
   "metadata": {},
   "source": [
    "### タイプ1\n",
    "\n",
    "$$\n",
    "\\Delta A_{(t)} = B_{(t)}\n",
    "$$\n",
    "\n",
    "### タイプ2\n",
    "\n",
    "$$\n",
    "\\Delta A_{(t)} = \\dot{B}_{(t)}\n",
    "$$"
   ]
  },
  {
   "cell_type": "markdown",
   "metadata": {},
   "source": [
    "一周期あたりの仕事W $\\cdots(2.31)$"
   ]
  },
  {
   "cell_type": "markdown",
   "metadata": {},
   "source": [
    "$$\n",
    "\\begin{align*}\n",
    "W &= \\int^{\\frac{2\\pi}{\\omega}}_{0} dt \\frac{dF_{(t)}}{dt} \\text{Tr}\\left( \\frac{\\partial H_{tot}} {\\partial F} \\rho_{(t)} \\right) \\\\\n",
    "&= - \\int^{\\frac{2\\pi}{\\omega}}_{0} dt \\frac{dF_{(t)}}{dt} \\langle B_{(t)} \\rangle_{eq} \\ \\ \\ \\ \\ \\left( \\because \\frac{\\partial H_{tot}} {\\partial F} = -B \\right) \\\\\n",
    "\\end{align*}\n",
    "$$"
   ]
  },
  {
   "cell_type": "markdown",
   "metadata": {},
   "source": [
    "単位時間あたりの仕事$P$ $\\cdots(2.32)$"
   ]
  },
  {
   "cell_type": "markdown",
   "metadata": {},
   "source": [
    "- タイプ1 $(\\Delta A_{(t)} = B_{(t)})$"
   ]
  },
  {
   "cell_type": "markdown",
   "metadata": {},
   "source": [
    "$$\n",
    "\\begin{align*}\n",
    "P^{(1)} &= - \\frac{\\omega}{2 \\pi} \\int^{\\frac{2\\pi}{\\omega}}_{0} dt \\frac{dF_{(t)}}{dt} \\langle B_{(t)} \\rangle_{eq} \\\\\n",
    "&= - \\frac{\\omega}{2 \\pi} \\int^{\\frac{2\\pi}{\\omega}}_{0} dt \\frac{dF_{(t)}}{dt} \\langle \\Delta A_{(t)} \\rangle_{eq} \\ \\ \\ \\ \\ \\left(\\because \\Delta A_{(t)} = B_{(t)} \\right) \\\\\n",
    "&= - \\frac{\\omega}{2 \\pi} \\int^{\\frac{2\\pi}{\\omega}}_{0} dt (-\\omega) F_0 \\sin{(\\omega t)} F_0 \\text{Re} \\left[ \\chi_{AB(\\omega)} e^{-i\\omega t} \\right] \\\\\n",
    "&= \\frac{\\omega^2 F_0^2}{2 \\pi} \\text{Re} \\left[ \\chi_{AB(\\omega)} \\int^{\\frac{2\\pi}{\\omega}}_{0} dt \\sin{(\\omega t)} e^{-i\\omega t} \\right] \\\\\n",
    "&= \\frac{\\omega^2 F_0^2}{2 \\pi} \\text{Re} \\left[ \\chi_{AB(\\omega)} \\int^{\\frac{2\\pi}{\\omega}}_{0} dt (-i) \\sin^2{(\\omega t)} \\right] \\\\\n",
    "&= \\frac{\\omega F_0^2}{2} \\chi''_{AB(\\omega)}\n",
    "\\end{align*}\n",
    "$$"
   ]
  },
  {
   "cell_type": "markdown",
   "metadata": {},
   "source": [
    "- タイプ2 $(\\Delta A_{(t)} = \\dot{B}_{(t)})$"
   ]
  },
  {
   "cell_type": "markdown",
   "metadata": {},
   "source": [
    "$$\n",
    "\\begin{align*}\n",
    "P^{(2)} &= - \\frac{\\omega}{2 \\pi} \\int^{\\frac{2\\pi}{\\omega}}_{0} dt \\frac{dF_{(t)}}{dt} \\langle B_{(t)} \\rangle_{eq} \\\\\n",
    "&= - \\frac{\\omega}{2 \\pi} \\left[ F_{(t)} \\langle B_{(t)} \\rangle_{eq} \\right]^{\\frac{2\\pi}{\\omega}}_{0} + \\frac{\\omega}{2 \\pi} \\int^{\\frac{2\\pi}{\\omega}}_{0} dt F_{(t)} \\frac{d}{dt} \\langle B_{(t)} \\rangle_{eq} \\\\\n",
    "&= \\frac{\\omega}{2 \\pi} \\int^{\\frac{2\\pi}{\\omega}}_{0} dt F_{(t)} \\langle \\dot{B}_{(t)} \\rangle_{eq} \\ \\ \\ \\ \\ \\left( \\because \\text{定常状態の周期性} \\right) \\\\\n",
    "&= \\frac{\\omega}{2 \\pi} \\int^{\\frac{2\\pi}{\\omega}}_{0} dt F_{(t)} \\langle \\Delta A_{(t)} \\rangle_{eq} \\ \\ \\ \\ \\ \\left( \\because \\Delta A_{(t)} = \\dot{B}_{(t)} \\right) \\\\\n",
    "&= \\frac{\\omega}{2 \\pi} \\int^{\\frac{2\\pi}{\\omega}}_{0} dt F_0 \\cos{(\\omega t)} F_0 \\text{Re} \\left[ \\chi_{AB(\\omega)} e^{-i\\omega t} \\right] \\\\\n",
    "&= \\frac{\\omega}{2 \\pi} F_{0}^{2} \\text{Re} \\left[ \\chi_{AB(\\omega)} \\int^{\\frac{2\\pi}{\\omega}}_{0} dt \\cos{(\\omega t)} e^{-i\\omega t} \\right] \\\\\n",
    "&= \\frac{\\omega}{2 \\pi} F_{0}^{2} \\text{Re} \\left[ \\chi_{AB(\\omega)} \\int^{\\frac{2\\pi}{\\omega}}_{0} dt \\cos^2{(\\omega t)} \\right] \\\\\n",
    "&= \\frac{F_0^2}{2} \\chi'_{AB(\\omega)}\n",
    "\\end{align*}\n",
    "$$"
   ]
  },
  {
   "cell_type": "markdown",
   "metadata": {},
   "source": [
    "等温過程応答係数$\\chi^{T}_{AB}$ $\\cdots(2.34)$"
   ]
  },
  {
   "cell_type": "markdown",
   "metadata": {},
   "source": [
    "$$\n",
    "\\begin{align*}\n",
    "\\chi^{T}_{AB} &= \\left. \\frac{\\partial}{\\partial F_0} \\frac{\\text{Tr}\\left[ e^{-\\beta (H - F_0 B)} A \\right]}{\\text{Tr}\\left[ e^{-\\beta(H - F_0B)} \\right]} \\right|_{F_0 \\to 0} \\\\\n",
    "&= \\left. \\frac{1}{Z} \\left\\{ \\frac{\\partial}{\\partial F_0} \\text{Tr}\\left[ e^{-\\beta (H - F_0 B)} A \\right] - \\langle A \\rangle_{eq} \\frac{\\partial}{\\partial F_0} \\text{Tr}\\left[ e^{-\\beta(H - F_0B)} \\right] \\right\\} \\right|_{F_0 \\to 0} \\\\\n",
    "&= \\frac{1}{Z} \\left\\{ \\text{Tr} \\left[ \\int^1_0 dy e^{-\\beta H(1-y)} (\\beta B) e^{-\\beta H y}A \\right] - \\langle A \\rangle_{eq} \\text{Tr} \\left[\\int^1_0 dy e^{-\\beta H(1-y)} (\\beta B) e^{-\\beta H y} \\right] \\right\\} \\\\\n",
    "&= \\frac{1}{Z} \\text{Tr} \\left[\\int^1_0 dy e^{-\\beta H(1-y)} (\\beta B) e^{-\\beta H y} (A - \\langle A \\rangle_{eq}) \\right] \\\\\n",
    "&= \\frac{1}{Z} \\text{Tr} \\left[\\int^{\\beta}_0 du e^{(u H-\\beta H)} B e^{-u H} (A - \\langle A \\rangle_{eq}) \\right] \\ \\ \\ \\ \\ (u \\coloneqq \\beta y) \\\\\n",
    "&= \\int^{\\beta}_0 du \\frac{1}{Z} \\text{Tr} \\left[ e^{-\\beta H} e^{u H} B e^{-u H} (A - \\langle A \\rangle_{eq}) \\right] \\\\\n",
    "&= \\int^{\\beta}_0 du \\langle e^{u H} B e^{-u H} (A - \\langle A \\rangle_{eq}) \\rangle_{eq} \\\\\n",
    "&= \\int^{\\beta}_0 du \\langle B_{(-i\\hbar u)}  (A - \\langle A \\rangle_{eq}) \\rangle_{eq} \\ \\ \\ \\ \\ \\left( \\because e^{u H}\\text{を時間発展演算子とみなした} \\right) \\\\\n",
    "&= \\int^{\\beta}_0 du \\langle B (A_{(i \\hbar u)} - \\langle A \\rangle_{eq}) \\rangle_{eq} \\ \\ \\ \\ \\ \\left( \\because \\text{平衡状態の平均は時間に依存しない} \\right) \\\\\n",
    "&= \\int^{\\beta}_0 du \\left( \\langle B A_{(i \\hbar u)} \\rangle_{eq} - \\langle B \\rangle_{eq} \\langle A \\rangle_{eq} \\right) \\\\\n",
    "&= \\int^{\\beta}_0 du \\langle \\Delta B \\Delta A_{(i \\hbar u)} \\rangle_{eq} \\ \\ \\ \\ \\ \\left( \\text{ref.} \\ \\ \\text{Cov}(xy) = \\text{E}[xy] - \\text{E}[x]\\text{E}[y] \\right) \\\\\n",
    "\\end{align*}\n",
    "$$"
   ]
  },
  {
   "cell_type": "markdown",
   "metadata": {},
   "source": [
    "熱力学的応答関数と力学的応答関数の差 $\\cdots(2.35)$"
   ]
  },
  {
   "cell_type": "markdown",
   "metadata": {},
   "source": [
    "- 力学的応答関数の$\\omega \\to 0$極限を求める"
   ]
  },
  {
   "cell_type": "markdown",
   "metadata": {},
   "source": [
    "$$\n",
    "\\begin{align*}\n",
    "\\lim_{\\omega \\to 0} \\chi_{AB(\\omega)} &= \\lim_{\\omega \\to 0} \\int^{\\infty}_0 dt \\phi_{AB(t)} e^{-i \\omega t} \\\\\n",
    "&= \\lim_{\\tau \\to \\infty} \\int^{\\tau}_0 dt \\phi_{AB(t)} \\\\\n",
    "&= \\lim_{\\tau \\to \\infty} \\int^{\\tau}_0 dt \\int^{\\beta}_0 du \\langle \\dot{B}_{(-i \\hbar u)} A_{(t)} \\rangle_{eq} \\ \\ \\ \\ \\ (\\because \\text{(2.25)}) \\\\\n",
    "&= - \\lim_{\\tau \\to \\infty} \\int^{\\tau}_0 dt \\int^{\\beta}_0 du \\frac{d}{dt} \\langle B A_{(t + i \\hbar u)} \\rangle_{eq} \\ \\ \\ \\ \\ (\\because (公式1)) \\\\\n",
    "&= - \\int^{\\beta}_0 du \\lim_{\\tau \\to \\infty} \\left[ \\langle B A_{(t + i \\hbar u)} \\rangle_{eq} \\right]^{\\tau}_0 \\\\\n",
    "&= \\int^{\\beta}_0 du \\left( \\langle B A_{(i \\hbar u)} \\rangle_{eq} - \\lim_{\\tau \\to \\infty} \\langle B A_{(\\tau + i \\hbar u)} \\rangle_{eq} \\right)\n",
    "\\end{align*}\n",
    "$$"
   ]
  },
  {
   "cell_type": "markdown",
   "metadata": {},
   "source": [
    "- 差を計算する"
   ]
  },
  {
   "cell_type": "markdown",
   "metadata": {},
   "source": [
    "$$\n",
    "\\begin{align*}\n",
    "\\chi^{T}_{AB} - \\chi_{AB} &= \\int^{\\beta}_0 du \\langle \\Delta B \\Delta A_{(i \\hbar u)} \\rangle - \\int^{\\beta}_0 du \\left( \\langle B A_{(i \\hbar u)} \\rangle_{eq} - \\lim_{\\tau \\to \\infty} \\langle B A_{(\\tau + i \\hbar u)} \\rangle_{eq} \\right) \\\\\n",
    "&= \\int^{\\beta}_0 du \\left( \\langle B A_{(i \\hbar u)} \\rangle_{eq} - \\langle B \\rangle_{eq} \\langle A \\rangle_{eq} \\right) - \\int^{\\beta}_0 du \\left( \\langle B A_{(i \\hbar u)} \\rangle_{eq} - \\lim_{\\tau \\to \\infty} \\langle B A_{(\\tau + i \\hbar u)} \\rangle_{eq} \\right) \\\\\n",
    "&= \\int^{\\beta}_0 du \\left( \\lim_{\\tau \\to \\infty} \\langle B A_{(\\tau + i \\hbar u)} \\rangle_{eq} - \\langle B \\rangle_{eq} \\langle A \\rangle_{eq} \\right) \\\\\n",
    "&= \\lim_{\\tau \\to \\infty} \\int^{\\beta}_0 du \\left( \\langle B A_{(\\tau + i \\hbar u)} \\rangle_{eq} - \\langle B \\rangle_{eq} \\langle A \\rangle_{eq} \\right) \\\\\n",
    "&= \\lim_{\\tau \\to \\infty} \\int^{\\beta}_0 du \\langle \\Delta B \\Delta A_{(\\tau + i \\hbar u)} \\rangle_{eq}\n",
    "\\end{align*}\n",
    "$$"
   ]
  },
  {
   "cell_type": "markdown",
   "metadata": {},
   "source": [
    "##  § 2.2.2.2 揺動散逸定理 (P. 29)"
   ]
  },
  {
   "cell_type": "markdown",
   "metadata": {},
   "source": [
    "時間反転"
   ]
  },
  {
   "cell_type": "markdown",
   "metadata": {},
   "source": [
    "$$\n",
    "\\begin{align*}\n",
    "\\langle [A_{(t)}, B] \\rangle_{eq}\n",
    "&= \\text{Tr} \\left[ \\pi [A_{(t)}, B] \\right] \\\\\n",
    "&= \\text{Tr} \\left[ \\left( T \\pi [A_{(t)}, B] T^{\\dagger} \\right)^{\\dagger} \\right] \\\\\n",
    "&= \\text{Tr} \\left[ [B^{\\dagger}, A^{\\dagger}_{(-t)}] \\pi^{\\dagger} \\right] \\\\\n",
    "&= - \\text{Tr} \\left[ [A_{(-t)}, B] \\pi \\right] \\\\\n",
    "&= - \\langle [A_{(-t)}, B] \\rangle_{eq} \\\\\n",
    "\\end{align*}\n",
    "$$"
   ]
  },
  {
   "cell_type": "markdown",
   "metadata": {},
   "source": [
    "- タイプ1 $(A = B)$"
   ]
  },
  {
   "cell_type": "markdown",
   "metadata": {},
   "source": [
    "$$\n",
    "\\begin{align*}\n",
    "\\langle [A_{(t)}, B] \\rangle_{eq} &= \\langle [B_{(t)}, B] \\rangle_{eq} \\\\\n",
    "&= \\langle [B, B_{(-t)}] \\rangle_{eq} \\\\\n",
    "&= - \\langle [B_{(-t)}, B] \\rangle_{eq} \\\\\n",
    "&= - \\langle [A_{(-t)}, B] \\rangle_{eq} \\\\\n",
    "\\end{align*}\n",
    "$$"
   ]
  },
  {
   "cell_type": "markdown",
   "metadata": {},
   "source": [
    "- タイプ2 $(A = \\dot{B})$"
   ]
  },
  {
   "cell_type": "markdown",
   "metadata": {},
   "source": [
    "$$\n",
    "\\begin{align*}\n",
    "\\langle [A_{(t)}, B] \\rangle_{eq} &= \\langle [\\dot{B}_{(t)}, B] \\rangle_{eq} \\\\\n",
    "&= \\frac{d}{dt} \\langle [B_{(t)}, B] \\rangle_{eq} \\\\\n",
    "&= \\frac{d}{dt} \\langle [B, B_{(-t)}] \\rangle_{eq} \\\\\n",
    "&= - \\frac{d}{dt} \\langle [B_{(-t)}, B] \\rangle_{eq} \\\\\n",
    "&= \\langle [\\dot{B}_{(-t)}, B] \\rangle_{eq} \\\\\n",
    "&= \\langle [A_{(-t)}, B] \\rangle_{eq} \\\\\n",
    "\\end{align*}\n",
    "$$"
   ]
  },
  {
   "cell_type": "markdown",
   "metadata": {},
   "source": [
    "応答関数$\\phi_{AB}$"
   ]
  },
  {
   "cell_type": "markdown",
   "metadata": {},
   "source": [
    "- タイプ1"
   ]
  },
  {
   "cell_type": "markdown",
   "metadata": {},
   "source": [
    "$$\n",
    "\\begin{align*}\n",
    "\\phi_{AB(\\omega)} &= \\int^{\\infty}_{\\infty} dt \\frac{i}{\\hbar} \\langle [A_{(t)}, B] \\rangle_{eq} e^{i\\omega t} \\\\\n",
    "&= \\int^{\\infty}_0 dt \\frac{i}{\\hbar} \\langle [A_{(t)}, B] \\rangle_{eq} (e^{i \\omega t} - e^{-i \\omega t}) \\\\\n",
    "&= 2i \\int^{\\infty}_0 dt \\frac{i}{\\hbar} \\langle [A_{(t)}, B] \\rangle_{eq} \\text{Im}[e^{i \\omega t}] \\\\\n",
    "&= 2i \\text{Im} \\left[ \\int^{\\infty}_0 dt \\frac{i}{\\hbar} \\langle [A_{(t)}, B] \\rangle_{eq} e^{i \\omega t} \\right] \\\\\n",
    "&= 2i \\text{Im} [\\chi_{AB(\\omega)}] \\\\\n",
    "&= 2 \\chi'_{AB(\\omega)}\n",
    "\\end{align*}\n",
    "$$"
   ]
  },
  {
   "cell_type": "markdown",
   "metadata": {},
   "source": [
    "- タイプ2"
   ]
  },
  {
   "cell_type": "markdown",
   "metadata": {},
   "source": [
    "$$\n",
    "\\begin{align*}\n",
    "\\phi_{AB(\\omega)} &= \\int^{\\infty}_{\\infty} dt \\frac{i}{\\hbar} \\langle [A_{(t)}, B] \\rangle_{eq} e^{i\\omega t} \\\\\n",
    "&= \\int^{\\infty}_0 dt \\frac{i}{\\hbar} \\langle [A_{(t)}, B] \\rangle_{eq} (e^{i \\omega t} + e^{-i \\omega t}) \\\\\n",
    "&= 2 \\int^{\\infty}_0 dt \\frac{i}{\\hbar} \\langle [A_{(t)}, B] \\rangle_{eq} \\text{Re}[e^{i \\omega t}] \\\\\n",
    "&= 2 \\text{Re} \\left[ \\int^{\\infty}_0 dt \\frac{i}{\\hbar} \\langle [A_{(t)}, B] \\rangle_{eq} e^{i \\omega t} \\right] \\\\\n",
    "&= 2 \\text{Re} [\\chi_{AB(\\omega)}] \\\\\n",
    "&= 2 \\chi''_{AB(\\omega)}\n",
    "\\end{align*}\n",
    "$$"
   ]
  },
  {
   "cell_type": "markdown",
   "metadata": {},
   "source": [
    "KMS条件"
   ]
  },
  {
   "cell_type": "markdown",
   "metadata": {},
   "source": [
    "- 一般論"
   ]
  },
  {
   "cell_type": "markdown",
   "metadata": {},
   "source": [
    "$$\n",
    "\\begin{align*}\n",
    "\\langle AB_{(t + i\\hbar\\beta)} \\rangle_{eq} &= \\text{Tr}[\\pi A e^{-\\beta H} B_{(t)} e^{\\beta H}] \\\\\n",
    "&= \\frac{1}{Z} \\text{Tr} [e^{-\\beta H} A e^{-\\beta H} B_{(t)} e^{\\beta H}] \\\\\n",
    "&= \\frac{1}{Z} \\text{Tr} [A e^{-\\beta H} B_{(t)} e^{\\beta H} e^{-\\beta H}] \\\\\n",
    "&= \\frac{1}{Z} \\text{Tr} [A e^{-\\beta H} B_{(t)}] \\\\\n",
    "&= \\frac{1}{Z} \\text{Tr} [e^{-\\beta H} B_{(t)} A] \\\\\n",
    "&= \\langle B_{(t)} A \\rangle_{eq}\n",
    "\\end{align*}\n",
    "$$"
   ]
  },
  {
   "cell_type": "markdown",
   "metadata": {},
   "source": [
    "- 特に、"
   ]
  },
  {
   "cell_type": "markdown",
   "metadata": {},
   "source": [
    "$$\n",
    "\\langle \\Delta B \\Delta A_{(t + i\\hbar\\beta)} \\rangle_{eq} = \\langle \\Delta A_{(t)} \\Delta B \\rangle_{eq}\n",
    "$$"
   ]
  },
  {
   "cell_type": "markdown",
   "metadata": {},
   "source": [
    "- KMS条件 (積分形)"
   ]
  },
  {
   "cell_type": "markdown",
   "metadata": {},
   "source": [
    "$$\n",
    "\\begin{align*}\n",
    "\\int_{C} dz \\langle \\Delta B \\Delta A_{(z)} \\rangle_{eq} e^{i \\omega z} &= 0 \\\\\n",
    "\\therefore \\int^{\\infty}_{-\\infty} dt \\langle \\Delta B \\Delta A_{(t)} \\rangle_{eq} e^{i \\omega t} &= \\int^{\\infty}_{-\\infty} dt \\langle \\Delta B \\Delta A_{(t + i \\hbar \\beta)} \\rangle_{eq} e^{i \\omega (t + i \\hbar \\beta)} \\\\\n",
    "&= e^{- \\hbar \\beta \\omega}\\int^{\\infty}_{-\\infty} dt \\langle \\Delta B \\Delta A_{(t + i \\hbar \\beta)} \\rangle_{eq} e^{i \\omega t} \\\\\n",
    "&= e^{- \\hbar \\beta \\omega} \\int^{\\infty}_{-\\infty} dt \\langle \\Delta A_{(t)} \\Delta B \\rangle_{eq} e^{i \\omega t} \\\\\n",
    "\\end{align*}\n",
    "$$"
   ]
  },
  {
   "cell_type": "markdown",
   "metadata": {},
   "source": [
    "応答関数$\\phi_{AB}$"
   ]
  },
  {
   "cell_type": "markdown",
   "metadata": {},
   "source": [
    "- 準備"
   ]
  },
  {
   "cell_type": "markdown",
   "metadata": {},
   "source": [
    "$$\n",
    "\\begin{align*}\n",
    "[ A_{(t)}, B ]\n",
    "&= [ \\Delta A_{(t)} + \\langle A \\rangle_{eq}, \\Delta B + \\langle B \\rangle_{eq}] \\\\\n",
    "&= [ \\Delta A_{(t)}, \\Delta B ]\n",
    "\\end{align*}\n",
    "$$"
   ]
  },
  {
   "cell_type": "markdown",
   "metadata": {},
   "source": [
    "- $\\phi_{AB}$を変形 $(\\langle \\Delta A_{(t)} \\Delta B \\rangle_{eq}\\text{の形})$"
   ]
  },
  {
   "cell_type": "markdown",
   "metadata": {},
   "source": [
    "$$\n",
    "\\begin{align*}\n",
    "\\phi_{AB} &= \\frac{i}{\\hbar} \\int^{\\infty}_{-\\infty} dt \\langle [A_{(t)}, B] \\rangle_{eq} e^{i \\omega t} \\\\\n",
    "&= \\frac{i}{\\hbar} \\int^{\\infty}_{- \\infty} dt \\langle [ \\Delta A_{(t)}, \\Delta B ] \\rangle_{eq} e^{i \\omega t} \\\\\n",
    "&= \\frac{i}{\\hbar} \\int^{\\infty}_{- \\infty} dt \\left( \\langle \\Delta A_{(t)}\\Delta B \\rangle_{eq} - \\langle \\Delta B \\Delta A_{(t)} \\rangle_{eq} \\right) e^{i \\omega t} \\\\\n",
    "&= \\frac{i}{\\hbar} \\int^{\\infty}_{- \\infty} dt \\left( \\langle \\Delta A_{(t)}\\Delta B \\rangle_{eq} - e^{-\\hbar\\beta\\omega} \\langle \\Delta A_{(t)} \\Delta B \\rangle_{eq} \\right) e^{i \\omega t} \\\\\n",
    "&= \\frac{i}{\\hbar} (1 - e^{-\\hbar\\beta\\omega}) \\int^{\\infty}_{- \\infty} dt \\langle \\Delta A_{(t)}\\Delta B \\rangle_{eq} e^{i \\omega t} \\\\\n",
    "\\end{align*}\n",
    "$$"
   ]
  },
  {
   "cell_type": "markdown",
   "metadata": {},
   "source": [
    "- $\\phi_{AB}$を変形 $(\\langle \\Delta B \\Delta A_{(t)} \\rangle_{eq}\\text{の形})$"
   ]
  },
  {
   "cell_type": "markdown",
   "metadata": {},
   "source": [
    "$$\n",
    "\\begin{align*}\n",
    "\\phi_{AB} &= \\frac{i}{\\hbar} (1 - e^{-\\hbar\\beta\\omega}) \\int^{\\infty}_{- \\infty} dt \\langle \\Delta A_{(t)}\\Delta B \\rangle_{eq} e^{i \\omega t} \\\\\n",
    "&= (\\frac{i}{\\hbar} 1 - e^{-\\hbar\\beta\\omega}) \\int^{\\infty}_{- \\infty} dt e^{\\hbar\\beta\\omega} \\langle \\Delta B \\Delta A_{(t)} \\rangle_{eq} e^{i \\omega t} \\\\\n",
    "&= \\frac{i}{\\hbar} (e^{\\hbar\\beta\\omega} - 1) \\int^{\\infty}_{- \\infty} dt \\langle \\Delta B \\Delta A_{(t)} \\rangle_{eq} e^{i \\omega t} \\\\\n",
    "\\end{align*}\n",
    "$$"
   ]
  },
  {
   "cell_type": "markdown",
   "metadata": {},
   "source": [
    "- $\\phi_{AB}$を変換 $(C_{AB}\\text{の形})$ $\\cdots (2.44)$"
   ]
  },
  {
   "cell_type": "markdown",
   "metadata": {},
   "source": [
    "$$\n",
    "\\begin{align*}\n",
    "C_{AB} &= \\int^{\\infty}_{-\\infty} dt \\frac{1}{2} \\left[ \\langle \\Delta A_{(t)} \\Delta B \\rangle_{eq} + \\langle \\Delta B \\Delta A_{(t)} \\rangle_{eq} \\right] e^{i\\omega t} \\\\\n",
    "&= \\frac{1}{2} \\left[ \\int^{\\infty}_{-\\infty} dt \\langle \\Delta A_{(t)} \\Delta B \\rangle_{eq} e^{i\\omega t} + \\int^{\\infty}_{-\\infty} dt \\langle \\Delta B \\Delta A_{(t)} \\rangle_{eq} e^{i\\omega t} \\right] \\\\\n",
    "&= \\frac{1}{2} \\left[ \\frac{1}{\\frac{i}{\\hbar} (1 - e^{-\\hbar\\beta\\omega})} \\phi_{AB} + \\frac{1}{\\frac{i}{\\hbar} (e^{\\hbar\\beta\\omega} - 1)} \\phi_{AB} \\right] \\\\\n",
    "&= \\frac{\\hbar}{2i} \\frac{e^{\\frac12 \\hbar\\beta\\omega} + e^{-\\frac12 \\hbar\\beta\\omega}}{e^{\\frac12 \\hbar\\beta\\omega} - e^{-\\frac12 \\hbar\\beta\\omega}} \\phi_{AB} \\\\\n",
    "&= \\frac{\\frac{\\hbar\\omega}{2}}{i\\omega} \\coth{\\left( \\frac{\\hbar\\beta\\omega}{2} \\right)} \\phi_{AB} \\\\\n",
    "\\therefore \\phi_{AB} &= \\frac{i\\omega}{\\left( \\frac{\\hbar\\omega}{2} \\right) \\coth{\\left( \\frac{\\beta\\hbar\\omega}{2} \\right)}} C_{AB}\n",
    "\\end{align*}\n",
    "$$"
   ]
  },
  {
   "cell_type": "markdown",
   "metadata": {},
   "source": [
    "散逸とゆらぎの関係"
   ]
  },
  {
   "cell_type": "markdown",
   "metadata": {},
   "source": [
    "- タイプ1の $\\chi''_{AB}$ $\\cdots (2.45)$"
   ]
  },
  {
   "cell_type": "markdown",
   "metadata": {},
   "source": [
    "$$\n",
    "\\begin{align*}\n",
    "\\chi''_{AB} &= \\frac{1}{2i} \\phi_{AB} \\\\\n",
    "&= \\frac{1}{\\hbar \\coth{\\left( \\frac{\\beta\\hbar\\omega}{2} \\right)}} C_{AB}\n",
    "\\end{align*}\n",
    "$$"
   ]
  },
  {
   "cell_type": "markdown",
   "metadata": {},
   "source": [
    "- タイプ2の $\\chi'_{AB}$ $\\cdots (2.46)$"
   ]
  },
  {
   "cell_type": "markdown",
   "metadata": {},
   "source": [
    "$$\n",
    "\\begin{align*}\n",
    "C_{A\\dot{B}} &= \\int^{\\infty}_{-\\infty} dt \\frac12 \\left[ \\langle \\Delta A_{(t)} \\Delta \\dot{B} \\rangle_{eq} + \\langle \\Delta \\dot{B} \\Delta A_{(t)} \\rangle_{eq} \\right] e^{i\\omega t} \\\\\n",
    "&= - \\int^{\\infty}_{-\\infty} dt \\frac12 \\left( \\frac{d}{dt} \\left[ \\langle \\Delta A_{(t)} \\Delta B \\rangle_{eq} + \\langle \\Delta B \\Delta A_{(t)} \\rangle_{eq} \\right] \\right) e^{i\\omega t} \\ \\ \\ \\ \\ (\\because (\\text{公式1})) \\\\\n",
    "&= \\int^{\\infty}_{-\\infty} dt \\frac12 \\left[ \\langle \\Delta A_{(t)} \\Delta B \\rangle_{eq} + \\langle \\Delta B \\Delta A_{(t)} \\rangle_{eq} \\right] \\frac{d}{dt} e^{i\\omega t} \\ \\ \\ \\ \\ (\\because \\text{混合性}) \\\\\n",
    "&= i \\omega \\int^{\\infty}_{-\\infty} dt \\frac12 \\left[ \\langle \\Delta A_{(t)} \\Delta B \\rangle_{eq} + \\langle \\Delta B \\Delta A_{(t)} \\rangle_{eq} \\right] e^{i\\omega t} \\\\\n",
    "&= i \\omega C_{AB} \\\\\n",
    "\\end{align*}\n",
    "$$"
   ]
  },
  {
   "cell_type": "markdown",
   "metadata": {},
   "source": [
    "$$\n",
    "\\begin{align*}\n",
    "\\chi'_{AB} &= \\frac12 \\phi_{AB} \\\\\n",
    "&= \\frac{i\\omega}{\\hbar\\omega \\coth{\\left( \\frac{\\beta\\hbar\\omega}{2} \\right)}} C_{AB} \\\\\n",
    "&= \\frac{1}{\\hbar\\omega \\coth{\\left( \\frac{\\beta\\hbar\\omega}{2} \\right)}} C_{A\\dot{B}} \\\\\n",
    "\\end{align*}\n",
    "$$"
   ]
  },
  {
   "cell_type": "markdown",
   "metadata": {},
   "source": [
    "タイプ2: $\\omega \\to 0$の極限"
   ]
  },
  {
   "cell_type": "markdown",
   "metadata": {},
   "source": [
    "$$\n",
    "\\begin{align*}\n",
    "\\chi'_{AB} &= \\frac{1}{\\hbar\\omega \\coth{\\left( \\frac{\\beta\\hbar\\omega}{2} \\right)}} C_{A\\dot{B}} \\\\\n",
    "&\\to \\frac{\\frac{\\beta}{2} \\frac{\\beta\\hbar\\omega}{2}}{\\frac{\\beta\\hbar\\omega}{2}} \\int^{\\infty}_{-\\infty} dt C_{A\\dot{B}(to)} \\ \\ \\ \\ \\ \\left( \\because \\frac{1}{\\coth{(x)}} = \\tanh{(x)} = x + \\text{O}(x^3) \\right) \\\\\n",
    "&= \\frac{\\beta}{2} \\int^{\\infty}_{-\\infty} dt C_{A\\dot{B}(t)}\n",
    "\\end{align*}\n",
    "$$"
   ]
  },
  {
   "cell_type": "markdown",
   "metadata": {},
   "source": [
    "# 2.2.3 分布応答の線形応答と揺動散逸定理 (P. 31)"
   ]
  },
  {
   "cell_type": "markdown",
   "metadata": {},
   "source": [
    "$$\n",
    "H_{tot} = H_s + \\sum_{k} H_k + H_{ks}\n",
    "$$"
   ]
  },
  {
   "cell_type": "markdown",
   "metadata": {},
   "source": [
    "分布関数 $\\rho_0$"
   ]
  },
  {
   "cell_type": "markdown",
   "metadata": {},
   "source": [
    "- $e^{-u (G+X)}$ を計算する $\\cdots (2.53)$"
   ]
  },
  {
   "cell_type": "markdown",
   "metadata": {},
   "source": [
    "$$\n",
    "\\begin{align*}\n",
    "\\sigma_u &\\coloneqq e^{-u ( G + X )} \\\\\n",
    "\\bar{\\sigma}_u &\\coloneqq e^{uG}\\sigma_u\n",
    "\\end{align*}\n",
    "$$"
   ]
  },
  {
   "cell_type": "markdown",
   "metadata": {},
   "source": [
    "$$\n",
    "\\begin{align*}\n",
    "\\frac{\\partial}{\\partial u} \\bar{\\sigma}_u  &= e^{uG} G \\sigma_u - e^{uG} (G + X) \\sigma_u \\\\\n",
    "&= - e^{uG} X \\sigma_u \\\\\n",
    "&= - e^{uG} X e^{-uG} \\bar{\\sigma}_u \\\\\n",
    "&= - X_{(-i\\hbar u)} \\bar{\\sigma}_u \\\\\n",
    "\\therefore \\bar{\\sigma}_\\beta &= e^{-\\int^{\\beta}_0 du X_{(-i \\hbar u)}} \\\\\n",
    "\\therefore \\sigma_\\beta &= e^{-uG} e^{-\\int^{\\beta}_0 du X_{(-i \\hbar u)}} \\\\\n",
    "\\end{align*}\n",
    "$$"
   ]
  },
  {
   "cell_type": "markdown",
   "metadata": {},
   "source": [
    "$$\n",
    "\\begin{align*}\n",
    "\\sigma_\\beta\n",
    "&= e^{-\\beta G} e^{-\\int^{\\beta}_0 du X_{(-i \\hbar u)}} \\\\\n",
    "&= e^{-\\beta G} \\left( 1 - \\int^{\\beta}_0 du X_{(-i \\hbar u)} \\right) + \\text{O}_{(X^2)} \\\\\n",
    "\\sigma_\\beta\n",
    "&= e^{-\\int^{\\beta}_0 du X_{(i \\hbar u)}} e^{-uG} \\ \\ \\ \\ \\ (\\because \\sigma_\\beta \\text{はエルミート}) \\\\\n",
    "&= \\left( 1 - \\int^{\\beta}_0 du X_{(i \\hbar u)} \\right) e^{-\\beta G} + \\text{O}_{(X^2)} \\\\\n",
    "\\therefore \\sigma_\\beta\n",
    "&\\simeq e^{-\\beta G} - \\int^{\\beta}_0 du \\frac12 \\left[ e^{-\\beta G} X_{(-i \\hbar u)} + X_{(i \\hbar u)} e^{-\\beta G} \\right]\n",
    "\\end{align*}\n",
    "$$"
   ]
  },
  {
   "cell_type": "markdown",
   "metadata": {},
   "source": [
    "- $\\text{Tr} [e^{-u (G + X)}]$を計算する"
   ]
  },
  {
   "cell_type": "markdown",
   "metadata": {},
   "source": [
    "$$\n",
    "\\begin{align*}\n",
    "\\text{Tr} \\left[ e^{-u (G+X)} \\right] &\\simeq \\text{Tr}\\left[ e^{-\\beta G} - \\int^{\\beta}_0 du \\frac12 \\left[ e^{-\\beta G} X_{(-i \\hbar u)} + X_{(i \\hbar u)} e^{-\\beta G} \\right] \\right] \\\\\n",
    "&= \\text{Tr}\\left[ e^{-\\beta G} \\right] - \\int^{\\beta}_0 du \\frac12 \\left( \\text{Tr}\\left[ e^{-\\beta G} X_{(-i \\hbar u)} \\right] + \\text{Tr}\\left[ X_{(i \\hbar u)} e^{-\\beta G} \\right] \\right) \\\\\n",
    "&= Z - \\int^{\\beta}_0 du \\frac{1}{2} ( Z \\langle X_{(-i \\hbar u)} \\rangle_{eq} + Z \\langle X_{(i \\hbar u)} \\rangle_{eq}) \\\\\n",
    "&= Z \\left( 1 - \\int^{\\beta}_0 du \\frac{1}{2} ( \\langle X_{(-i \\hbar u)} \\rangle_{eq} + \\langle X_{(i \\hbar u)} \\rangle_{eq}) \\right)\n",
    "\\end{align*}\n",
    "$$"
   ]
  },
  {
   "cell_type": "markdown",
   "metadata": {},
   "source": [
    "- 分配関数$\\rho_0$を計算する $\\cdots (2.54)$"
   ]
  },
  {
   "cell_type": "markdown",
   "metadata": {},
   "source": [
    "$$\n",
    "\\frac{1}{1-x} = 1 + x + \\text{O}_{(x^2)}\n",
    "$$"
   ]
  },
  {
   "cell_type": "markdown",
   "metadata": {},
   "source": [
    "$$\n",
    "\\begin{align*}\n",
    "\\rho_0 &= \\frac{e^{-\\beta (G + X)}}{\\text{Tr} e^{-\\beta (G + X)}} \\\\\n",
    "&\\simeq \\left( e^{-\\beta G} - \\int^{\\beta}_0 du \\frac12 \\left[ e^{-\\beta G} X_{(-i \\hbar u)} + X_{(i \\hbar u)} e^{-\\beta G} \\right] \\right) \\frac{1}{Z} \\left( 1 + \\int^{\\beta}_0 du \\frac{1}{2} ( \\langle X_{(-i \\hbar u)} \\rangle_{eq} + \\langle X_{(i \\hbar u)} \\rangle_{eq}) \\right) \\\\\n",
    "&= \\left( \\pi - \\int^{\\beta}_0 du \\frac12 \\left[ \\pi X_{(-i \\hbar u)} + X_{(i \\hbar u)} \\pi \\right] \\right) \\left( 1 + \\int^{\\beta}_0 du \\frac{1}{2} ( \\langle X_{(-i \\hbar u)} \\rangle_{eq} + \\langle X_{(i \\hbar u)} \\rangle_{eq}) \\right) \\\\\n",
    "&\\simeq \\pi - \\int^{\\beta}_0 du \\frac12 \\left[ \\pi X_{(-i \\hbar u)} + X_{(i \\hbar u)} \\pi \\right] + \\int^{\\beta}_0 du \\frac{1}{2} ( \\pi \\langle X_{(-i \\hbar u)} \\rangle_{eq} + \\langle X_{(i \\hbar u)} \\rangle_{eq} \\pi) \\\\\n",
    "&= \\pi - \\int^{\\beta}_0 du \\frac12 \\left[ \\pi \\Delta X_{(-i \\hbar u)} + \\Delta X_{(i \\hbar u)} \\pi \\right]\n",
    "\\end{align*}\n",
    "$$"
   ]
  },
  {
   "cell_type": "markdown",
   "metadata": {},
   "source": [
    "演算子の時間発展 $\\cdots (2.55)$"
   ]
  },
  {
   "cell_type": "markdown",
   "metadata": {},
   "source": [
    "$$\n",
    "\\begin{align*}\n",
    "\\langle A_{(\\tau)} \\rangle_{eq}\n",
    "&= \\text{Tr}[ \\rho_0 U^{\\dagger} A U] \\\\\n",
    "&= \\text{Tr}[A U \\rho_0 U^{\\dagger}] \\\\\n",
    "&= \\text{Tr}[AU\\pi U^{\\dagger}] - \\int^{\\beta}_0 du \\frac12 \\left( \\text{Tr}[AU\\pi\\Delta X_{(-i \\hbar u)}U^{\\dagger}] + \\text{Tr}[AU\\Delta X_{(i \\hbar u)} \\pi U^{\\dagger}] \\right) \\\\\n",
    "&= \\text{Tr}[\\pi A] - \\int^{\\beta}_0 du \\frac12 \\left( \\text{Tr}[\\pi\\Delta X_{(-i \\hbar u - \\tau)} A] + \\text{Tr}[\\pi A\\Delta X_{(i \\hbar u - \\tau)}] \\right) \\\\\n",
    "&= \\langle A \\rangle_{eq} - \\int^{\\beta}_0 du \\frac12 \\left[ \\langle \\Delta X_{(-i \\hbar u - \\tau)} A \\rangle_{eq} +  \\langle A\\Delta X_{(i \\hbar u - \\tau)} \\rangle_{eq} \\right] \\\\\n",
    "&= \\langle A \\rangle_{eq} + \\int^{\\beta}_0 du \\int^0_{-\\tau} dt \\frac12 \\left[ \\langle \\Delta \\dot{X}_{(-i \\hbar u + t)} \\rangle_{eq} + \\langle A \\Delta \\dot{X}_{(i \\hbar u + t)} \\rangle_{eq} \\right] - \\int^{\\beta}_0 du \\frac12 \\left( \\langle \\Delta X_{(-i \\hbar u)} A \\rangle_{eq} +  \\langle A\\Delta X_{(i \\hbar u)} \\rangle_{eq} \\right)\n",
    "\\end{align*}\n",
    "$$"
   ]
  },
  {
   "cell_type": "markdown",
   "metadata": {},
   "source": [
    "時間反転"
   ]
  }
 ],
 "metadata": {
  "kernelspec": {
   "display_name": "Python 3",
   "language": "python",
   "name": "python3"
  },
  "language_info": {
   "codemirror_mode": {
    "name": "ipython",
    "version": 3
   },
   "file_extension": ".py",
   "mimetype": "text/x-python",
   "name": "python",
   "nbconvert_exporter": "python",
   "pygments_lexer": "ipython3",
   "version": "3.9.6"
  }
 },
 "nbformat": 4,
 "nbformat_minor": 2
}
