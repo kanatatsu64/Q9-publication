{
 "cells": [
  {
   "cell_type": "markdown",
   "metadata": {},
   "source": [
    "# 進め方\n",
    "\n",
    "前提となる議論を理解する。\n",
    "\n",
    "- [ ] 2.1 古典粒子系に対する揺動散逸定理\n",
    "- [ ] 2.2 線形応答理論\n",
    "    - [ ] 2.2.1 力学応答の線形応答\n",
    "        - [ ] 2.2.1.1 一般論\n",
    "        - [ ] 2.2.1.2 クラマース・クローニッヒ関係\n",
    "\n",
    "とりあえず、パワーロスの項目について全ての工程を試す。\n",
    "\n",
    "||議論の流れを追う|紙に書き出す|資料にまとめる|論点をコメントに残す|\n",
    "|:-|:-:|:-:|:-:|:-:|\n",
    "|力学応答の揺動散逸定理|-|-|-|-|\n",
    "|パワーロス||||\n",
    "|揺動散逸定理||||\n",
    "|分布応答の線形応答と揺動散逸定理||||"
   ]
  },
  {
   "cell_type": "markdown",
   "metadata": {},
   "source": [
    "## 準備"
   ]
  },
  {
   "cell_type": "markdown",
   "metadata": {},
   "source": [
    "- トレースの循環性"
   ]
  },
  {
   "cell_type": "markdown",
   "metadata": {},
   "source": [
    "$$\n",
    "\\begin{align*}\n",
    "\\text{Tr}[AB] &= A_{ij}B_{ji} \\\\\n",
    "&= B_{ji} A_{i j} \\\\\n",
    "&= \\text{Tr}[BA]\n",
    "\\end{align*}\n",
    "$$"
   ]
  },
  {
   "cell_type": "markdown",
   "metadata": {},
   "source": [
    "$$\n",
    "\\begin{align*}\n",
    "\\text{Tr} [AB] &= \\int d\\psi \\bra{\\psi} AB \\ket{\\psi} \\\\\n",
    "&= \\int d\\psi \\bra{\\psi} A \\left( \\int d\\psi' \\ket{\\psi'}\\bra{\\psi'} \\right) B \\ket{\\psi} \\\\\n",
    "&= \\int d\\psi \\int d\\psi' \\bra{\\psi} A \\ket{\\psi'}\\bra{\\psi'} B \\ket{\\psi} \\\\\n",
    "&= \\int d\\psi' \\int d\\psi \\bra{\\psi'} B \\ket{\\psi} \\bra{\\psi} A \\ket{\\psi'} \\\\\n",
    "&= \\int d\\psi' \\bra{\\psi'} B \\left( \\int d\\psi \\ket{\\psi}\\bra{\\psi} \\right) A \\ket{\\psi'} \\\\\n",
    "&= \\int d\\psi' \\bra{\\psi'} BA \\ket{\\psi'} \\\\\n",
    "&= \\text{Tr} [BA]\n",
    "\\end{align*}\n",
    "$$"
   ]
  },
  {
   "cell_type": "markdown",
   "metadata": {},
   "source": [
    "- 分布関数$\\pi$の位置"
   ]
  },
  {
   "cell_type": "markdown",
   "metadata": {},
   "source": [
    "$$\n",
    "\\begin{align*}\n",
    "\\langle A B \\rangle_{eq} &= \\sum_{\\psi} \\bra{\\psi} A B \\pi \\ket{\\psi} \\\\\n",
    "&= \\text{Tr}\\left[ A B \\pi \\right] \\\\\n",
    "&= \\text{Tr}\\left[ \\pi A B \\right] \\ \\ \\ \\ \\ (\\because \\text{トレースの循環性}) \\\\\n",
    "&= \\text{Tr}\\left[ B \\pi A \\right] \\ \\ \\ \\ \\ (\\because \\text{トレースの循環性}) \\\\\n",
    "&\\neq \\text{Tr}\\left[ \\pi B A \\right] \\ \\ \\ \\ \\ (ie. \\neq \\langle B A \\rangle_{eq}) \\\\\n",
    "\\end{align*}\n",
    "$$"
   ]
  },
  {
   "cell_type": "markdown",
   "metadata": {},
   "source": [
    "- $H$が時間に陽に依存しない場合の、時間発展演算子$U_{(t)}$"
   ]
  },
  {
   "cell_type": "markdown",
   "metadata": {},
   "source": [
    "$$\n",
    "\\begin{align*}\n",
    "&U_{(t)} = e^{-\\frac{i}{h}Ht} \\\\\n",
    "&U^{\\dagger}_{(t)} = U^{-1}_{(t)} = e^{\\frac{i}{h}Ht} \\\\\n",
    "\\end{align*}\n",
    "$$"
   ]
  },
  {
   "cell_type": "markdown",
   "metadata": {},
   "source": [
    "$$\n",
    "\\begin{align*}\n",
    "A_{(t)} &= U^{\\dagger}_{(t)} A U_{(t)} \\\\\n",
    "\\dot{A}_{(t)} &= \\frac{d}{dt} \\left( U^{\\dagger}_{(t)} A U_{(t)} \\right) \\\\\n",
    "&= U^{\\dagger}_{(t)} \\frac{i}{\\hbar} H A U_{(t)} - U^{\\dagger}_{(t)} A \\frac{i}{\\hbar} H U_{(t)} \\\\\n",
    "&= U^{\\dagger}_{(t)} \\frac{i}{\\hbar} [H, A] U_{(t)} \\\\\n",
    "&= U^{\\dagger}_{(t)} \\dot{A} U_{(t)}\n",
    "\\end{align*}\n",
    "$$"
   ]
  },
  {
   "cell_type": "markdown",
   "metadata": {},
   "source": [
    "- $H$が時間に陽に依存する場合の、時間発展演算子$U_{(t)}$"
   ]
  },
  {
   "cell_type": "markdown",
   "metadata": {},
   "source": [
    "$$\n",
    "\\begin{align*}\n",
    "i \\hbar \\frac{\\partial}{\\partial t} \\ket{\\psi_{(t)}} &= H_{(t)} \\ket{\\psi_{(t)}} \\\\\n",
    "\\therefore i \\hbar \\frac{\\partial}{\\partial t} U_{(t)} &= H_{(t)} U_{(t)} \\\\\n",
    "\\therefore U_{(t + \\Delta t)} &= \\left( I - \\frac{i}{\\hbar} H_{(t)} \\Delta t \\right) U_{(t)}\n",
    "\\end{align*}\n",
    "$$"
   ]
  },
  {
   "cell_type": "markdown",
   "metadata": {},
   "source": [
    "逐次積分"
   ]
  },
  {
   "cell_type": "markdown",
   "metadata": {},
   "source": [
    "$$\n",
    "\\begin{align*}\n",
    "U_{(\\Delta t)} &= \\left(I - \\frac{i}{\\hbar}H_{(0)} \\Delta t \\right) U_{(0)} = \\left( I - \\frac{i}{\\hbar} H_{(0)} \\Delta t \\right) \\\\\n",
    "U_{(2\\Delta t)} &= \\left(I - \\frac{i}{\\hbar}H_{(\\Delta t)} \\Delta t \\right) U_{(\\Delta t)} = \\left( I - \\frac{i}{\\hbar} H_{(\\Delta t)} \\Delta t \\right) \\left( I - \\frac{i}{\\hbar} H_{(0)} \\Delta t \\right) \\\\\n",
    "\\cdots \\\\\n",
    "U_{(n\\Delta t)} &= \\prod^{n}_{i} \\left( I - \\frac{i}{\\hbar} H_{(i \\Delta t)} \\Delta t \\right) \\\\\n",
    "\\therefore U_{(\\tau)} &= \\lim_{n \\to \\infty} \\prod^{n}_{i} \\left( I - \\frac{i}{\\hbar} H_{(\\frac{i\\tau}{n})} \\frac{\\tau}{n} \\right) = I - \\frac{i}{\\hbar} \\int^{\\tau}_0 dt H_{(t)} + \\left( \\frac{i}{\\hbar} \\right)^2 \\int^{\\tau}_{\\tau'} dt \\int^{\\tau'}_0 dt' H_{(dt)} H_{(dt')} + \\cdots \\\\\n",
    "&\\coloneqq \\exp_{\\leftarrow} \\left( -\\frac{i}{\\hbar} \\int^{\\tau}_0 H dt \\right) \\ \\ \\ \\ \\ (\\text{時間順序指数})\n",
    "\\end{align*}\n",
    "$$"
   ]
  },
  {
   "cell_type": "markdown",
   "metadata": {},
   "source": [
    "- 平衡状態における平均の時間非依存性"
   ]
  },
  {
   "cell_type": "markdown",
   "metadata": {},
   "source": [
    "古典系"
   ]
  },
  {
   "cell_type": "markdown",
   "metadata": {},
   "source": [
    "$$\n",
    "\\begin{align*}\n",
    "\\langle A_{(t)} \\rangle_{eq} &\\coloneqq \\langle e^{L^{\\dagger}_0 t} A \\rangle_{eq} \\\\\n",
    "&= \\int d\\Gamma (e^{L^{\\dagger}_0 t} A) \\pi \\\\\n",
    "&= \\int d\\Gamma A e^{L_0 t} \\pi \\\\\n",
    "&= \\int d\\Gamma A \\pi_{(-t)} \\\\\n",
    "&= \\int d\\Gamma A \\pi \\\\\n",
    "&= \\langle A \\rangle_{eq}\n",
    "\\end{align*}\n",
    "$$"
   ]
  },
  {
   "cell_type": "markdown",
   "metadata": {},
   "source": [
    "量子系"
   ]
  },
  {
   "cell_type": "markdown",
   "metadata": {},
   "source": [
    "$$\n",
    "\\begin{align*}\n",
    "\\langle P^{-1} A P \\rangle_{eq} &= \\text{Tr} [P^{-1} A P] \\\\\n",
    "&= \\text{Tr} [A P P^{-1}] \\\\\n",
    "&= \\text{Tr}[A] \\\\\n",
    "&= \\langle A \\rangle_{eq}\n",
    "\\end{align*}\n",
    "$$"
   ]
  },
  {
   "cell_type": "markdown",
   "metadata": {},
   "source": [
    "$$\n",
    "\\langle A_{(t)} \\rangle_{eq} = \\langle U^{\\dagger}_t A U_t \\rangle_{eq} = \\langle A \\rangle_{eq} \\ \\ \\ \\ \\ (\\because U_t\\text{がユニタリ})\n",
    "$$"
   ]
  },
  {
   "cell_type": "markdown",
   "metadata": {},
   "source": [
    "$$\n",
    "\\begin{align*}\n",
    "\\langle A_{(t)} B_{(\\tau)} \\rangle_{eq} &= \\langle U^{\\dagger}_t A U_t U^{\\dagger}_\\tau B U_\\tau \\rangle_{eq} \\\\\n",
    "&= \\langle A U_t U^{\\dagger}_\\tau B_{(\\tau - t)} U_\\tau U^\\dagger_t \\rangle_{eq} \\\\\n",
    "&= \\langle A U^{\\dagger}_{(\\tau - t)} B_{(\\tau - t)} U_{(\\tau - t)} \\rangle_{eq} \\\\\n",
    "&= \\langle A B_{(\\tau - t)} \\rangle_{eq}\n",
    "\\end{align*}\n",
    "$$"
   ]
  },
  {
   "cell_type": "markdown",
   "metadata": {},
   "source": [
    "- 微分が入った時間相関関数 $\\cdots (公式1)$"
   ]
  },
  {
   "cell_type": "markdown",
   "metadata": {},
   "source": [
    "$$\n",
    "\\begin{align*}\n",
    "\\left\\langle \\dot{B}_{(\\tau)} A_{(t)} \\right\\rangle_{eq} &= \\left\\langle \\left( \\frac{d}{d\\tau} B_{(\\tau)} \\right) A_{(t)} \\right\\rangle_{eq} \\\\\n",
    "&= \\frac{d}{d\\tau} \\left\\langle B_{(\\tau)} A_{(t)} \\right\\rangle_{eq} \\\\\n",
    "&= \\frac{d}{d\\tau} \\left\\langle B A_{(t - \\tau)} \\right\\rangle_{eq} \\\\\n",
    "&= - \\frac{d}{dt} \\left\\langle B A_{(t - \\tau)} \\right\\rangle_{eq} \\\\\n",
    "&= - \\left\\langle B \\dot{A}_{(t - \\tau)} \\right\\rangle_{eq} \\\\\n",
    "\\end{align*}\n",
    "$$"
   ]
  },
  {
   "cell_type": "markdown",
   "metadata": {},
   "source": [
    "\n",
    "## 2.2 古典粒子系に対する揺動散逸定理 (続き)"
   ]
  },
  {
   "cell_type": "markdown",
   "metadata": {},
   "source": [
    "応答関数を計算するときは、系が平衡状態$(H = H_{tot})$のときを考えればいよい。"
   ]
  },
  {
   "cell_type": "markdown",
   "metadata": {},
   "source": [
    "$$\n",
    "\\begin{align*}\n",
    "\\alpha + \\text{O}_{(\\epsilon)} \\coloneqq \\phi_{\\dot{x}x(t; H_{tot} - \\epsilon x F_{(t)})} \\\\\n",
    "\\alpha = \\left. \\phi_{\\dot{x}x(t; H_{tot} - \\epsilon x F_{(t)})} \\right|_{\\epsilon = 0} = \\phi_{\\dot{x}x(t; H_{tot})}\n",
    "\\end{align*}\n",
    "$$"
   ]
  },
  {
   "cell_type": "markdown",
   "metadata": {},
   "source": [
    "$$\n",
    "\\begin{align*}\n",
    "\\langle \\dot{x}_{(\\tau)} \\rangle &\\simeq \\epsilon \\int^{\\tau}_{-\\infty} dt F_{(t)} \\phi_{\\dot{x}x(\\tau - t; H_{tot} - \\epsilon x F_{(t)})} \\\\\n",
    "&= \\epsilon \\int^{\\tau}_{-\\infty} dt F_{(t)} \\left( \\alpha + \\text{O}_{(\\epsilon)} \\right) \\\\\n",
    "&\\simeq \\epsilon \\int^{\\tau}_{-\\infty} dt F_{(t)} \\alpha \\\\\n",
    "&= \\epsilon \\int^{\\tau}_{-\\infty} dt F_{(t)} \\phi_{\\dot{x}x(\\tau - t; H_{tot})}\n",
    "\\end{align*}\n",
    "$$"
   ]
  },
  {
   "cell_type": "markdown",
   "metadata": {},
   "source": [
    "応答関数 $\\phi_{\\dot{x}x}$"
   ]
  },
  {
   "cell_type": "markdown",
   "metadata": {},
   "source": [
    "$$\n",
    "\\begin{align*}\n",
    "\\dot{x}_{(t)} &= e^{L^{\\dagger}_0 t} \\dot{x} \\\\\n",
    "&= e^{L^{\\dagger}_0 t} L^{\\dagger}_0 x \\\\\n",
    "&= \\frac{d}{dt} e^{L^{\\dagger}_0 t} x \\\\\n",
    "&= \\frac{d}{dt} x_{(t)}\n",
    "\\end{align*}\n",
    "$$"
   ]
  },
  {
   "cell_type": "markdown",
   "metadata": {},
   "source": [
    "$$\n",
    "\\begin{align*}\n",
    "\\phi_{\\dot{x}x(\\tau - t)} &\\coloneqq \\beta \\langle \\dot{x}_{(\\tau - t)} \\dot{x} \\rangle_{eq} \\\\\n",
    "&= \\beta \\langle \\dot{x}_{(\\tau)} \\dot{x}_{(t)} \\rangle_{eq} \\\\\n",
    "&= \\beta \\langle \\dot{x}_{(\\tau)} \\frac{d}{dt} x_{(t)} \\rangle_{eq} \\\\\n",
    "&= \\beta \\frac{d}{dt} \\langle \\dot{x}_{(\\tau)} x_{(t)} \\rangle_{eq}\n",
    "\\end{align*}\n",
    "$$"
   ]
  },
  {
   "cell_type": "markdown",
   "metadata": {},
   "source": [
    "長時間後に一定になった速度 $\\cdots (2.11)$"
   ]
  },
  {
   "cell_type": "markdown",
   "metadata": {},
   "source": [
    "$$\n",
    "\\begin{align*}\n",
    "\\frac{\\langle \\dot{x}_{(\\tau)} \\rangle}{F_0} &= \\int^{\\tau}_{-\\infty} dt \\phi_{\\dot{x}x(\\tau - t)} \\\\\n",
    "&= \\int^{\\infty}_0 dt \\phi_{\\dot{x}x(t)} \\ \\ \\ \\ \\ (t \\Rightarrow \\tau - t) \\\\\n",
    "&= \\beta \\int^{\\infty}_0 dt \\langle \\dot{x}_{(t)} \\dot{x} \\rangle_{eq} \\\\\n",
    "\\therefore \\frac{\\langle \\dot{x}_{(\\tau)} \\rangle_{eq}}{F_0} &= \\frac{\\langle \\dot{x} \\rangle_{eq}}{F_0} = \\beta \\int^{\\infty}_0 dt \\langle \\dot{x}_{(t)} \\dot{x} \\rangle_{eq}\n",
    "\\end{align*}\n",
    "$$"
   ]
  },
  {
   "cell_type": "markdown",
   "metadata": {},
   "source": [
    "ランジュバン方程式での$\\mu$"
   ]
  },
  {
   "cell_type": "markdown",
   "metadata": {},
   "source": [
    "$$\n",
    "m \\ddot{x} = F - \\gamma \\dot{x} + \\xi\n",
    "$$"
   ]
  },
  {
   "cell_type": "markdown",
   "metadata": {},
   "source": [
    "$$\n",
    "\\begin{align*}\n",
    "m \\langle \\ddot{x} \\rangle &= F - \\gamma \\langle \\dot{x} \\rangle + \\langle \\xi \\rangle \\\\\n",
    "\\therefore F &= \\gamma \\langle \\dot{x} \\rangle \\ \\ \\ \\ \\ (\\because \\text{速度一定}) \\\\\n",
    "\\therefore \\frac{\\langle \\dot{x} \\rangle}{F} &= \\mu = \\frac{1}{2k_B T} \\int^{\\infty}_{-\\infty} ds \\langle \\dot{x}_{(s)} \\dot{x} \\rangle \\ \\ \\ \\ \\ (\\text{ref. } (1.12))\n",
    "\\end{align*}\n",
    "$$"
   ]
  },
  {
   "cell_type": "markdown",
   "metadata": {},
   "source": [
    "パルス入力に対する応答 $\\cdots (2.12)$"
   ]
  },
  {
   "cell_type": "markdown",
   "metadata": {},
   "source": [
    "$$\n",
    "F_{(t)} = F_0 \\delta_{(t - t')}\n",
    "$$"
   ]
  },
  {
   "cell_type": "markdown",
   "metadata": {},
   "source": [
    "$$\n",
    "\\begin{align*}\n",
    "\\langle \\dot{x}_{(\\tau)} \\rangle &= \\epsilon \\int^{\\tau}_{-\\infty} dt F_{(t)} \\phi_{x\\dot{x}(\\tau - t)} \\\\\n",
    "&= \\epsilon \\int^{\\tau}_{-\\infty} dt F_0 \\delta_{(t - t')} \\phi_{x\\dot{x}(\\tau - t)} \\\\\n",
    "&= \\epsilon F_{(0)} \\phi_{x\\dot{x}(\\tau - t')} \\ \\ \\ \\ \\ (\\tau \\ge t')\n",
    "\\end{align*}\n",
    "$$"
   ]
  },
  {
   "cell_type": "markdown",
   "metadata": {},
   "source": [
    "フーリエ表示の揺動散逸定理 $\\cdots (2.15)$"
   ]
  },
  {
   "cell_type": "markdown",
   "metadata": {},
   "source": [
    "$$\n",
    "\\chi_{\\dot{x}x(\\omega)} = \\chi'_{(\\omega)} + i \\chi''_{(\\omega)}\n",
    "$$"
   ]
  },
  {
   "cell_type": "markdown",
   "metadata": {},
   "source": [
    "$$\n",
    "\\begin{align*}\n",
    "\\chi'_{(\\omega)} &= \\text{Re} \\left[ \\int^{\\infty}_{0} dt \\beta \\langle \\dot{x}_{(t)} \\dot{x} \\rangle_{eq} e^{i\\omega t} \\right] \\\\\n",
    "&= \\beta \\int^{\\infty}_{0} dt C_{(t)} \\text{Re} [e^{i\\omega t}] \\\\\n",
    "&= \\beta \\int^{\\infty}_0 dt C_{(t)} \\cos{(\\omega t)} \\\\\n",
    "&= \\frac{\\beta}{2} \\int^{\\infty}_{0} dt C_{(t)} \\left( e^{i \\omega t} + e^{-i \\omega t} \\right) \\\\\n",
    "&= \\frac{\\beta}{2} \\left( \\int^{\\infty}_{0} dt C_{(t)} e^{i \\omega t} - \\int^{\\infty}_0 (-dt) C_{(-t)} e^{-i \\omega t} \\right) \\\\\n",
    "&= \\frac{\\beta}{2} \\left( \\int^{\\infty}_{0} dt C_{(t)} e^{i \\omega t} + \\int^0_{-\\infty} dt C_{(t)} e^{i \\omega t} \\right) \\\\\n",
    "&= \\frac{\\beta}{2} C_{(\\omega)}\n",
    "\\end{align*}\n",
    "$$"
   ]
  },
  {
   "cell_type": "markdown",
   "metadata": {},
   "source": [
    "## 2.2 線形応答理論"
   ]
  },
  {
   "cell_type": "markdown",
   "metadata": {},
   "source": [
    "### § 2.2.1 力学応答の線形応答"
   ]
  },
  {
   "cell_type": "markdown",
   "metadata": {},
   "source": [
    "$$\n",
    "H_{tot(t)} = H - BF_{(t)}\n",
    "$$"
   ]
  },
  {
   "cell_type": "markdown",
   "metadata": {},
   "source": [
    "タイプ1"
   ]
  },
  {
   "cell_type": "markdown",
   "metadata": {},
   "source": [
    "$$\n",
    "A \\propto B\n",
    "$$"
   ]
  },
  {
   "cell_type": "markdown",
   "metadata": {},
   "source": [
    "タイプ2"
   ]
  },
  {
   "cell_type": "markdown",
   "metadata": {},
   "source": [
    "$$\n",
    "A \\propto \\dot{B}\n",
    "$$"
   ]
  },
  {
   "cell_type": "markdown",
   "metadata": {},
   "source": [
    "### § 2.2.1.1 一般論"
   ]
  },
  {
   "cell_type": "markdown",
   "metadata": {},
   "source": [
    "時間発展演算子 $\\cdots (2.18)$"
   ]
  },
  {
   "cell_type": "markdown",
   "metadata": {},
   "source": [
    "- 平衡状態の時間発展演算子を分離"
   ]
  },
  {
   "cell_type": "markdown",
   "metadata": {},
   "source": [
    "$$\n",
    "\\begin{align*}\n",
    "i \\hbar \\frac{\\partial}{\\partial t} U_{(t)} &= [H - FB] U_{(t)} \\\\\n",
    "\\bar{U}_{(t)} &\\coloneqq e^{\\frac{i}{\\hbar}Ht} U_{(t)} \\\\\n",
    "\\end{align*}\n",
    "$$"
   ]
  },
  {
   "cell_type": "markdown",
   "metadata": {},
   "source": [
    "$$\n",
    "\\begin{align*}\n",
    "\\frac{\\partial}{\\partial t} \\bar{U}_{(t)} &= \\frac{i}{\\hbar} H \\bar{U}_{(t)} - \\frac{i}{\\hbar} e^{\\frac{i}{\\hbar}Ht}[H - F_{(t)}B]U_{(t)} \\\\\n",
    "&= \\frac{i}{\\hbar} e^{\\frac{i}{\\hbar}Ht} F_{(t)}B U_{(t)} \\\\\n",
    "&= \\frac{i}{\\hbar} F_{(t)} \\left( e^{\\frac{i}{\\hbar}Ht} B e^{-\\frac{i}{\\hbar}Ht} \\right) e^{\\frac{i}{\\hbar} Ht} U_{(t)} \\\\\n",
    "&= F_{(t)}B_{(t)} \\bar{U}_{(t)} \\\\\n",
    "\\end{align*}\n",
    "$$"
   ]
  },
  {
   "cell_type": "markdown",
   "metadata": {},
   "source": [
    "[note] $F$について一次の近似を考えるので、Bの時間発展を考える時は、$F$を考慮せず平衡状態のハミルトニアンで時間発展すると考えて良い。"
   ]
  },
  {
   "cell_type": "markdown",
   "metadata": {},
   "source": [
    "- 逐次積分"
   ]
  },
  {
   "cell_type": "markdown",
   "metadata": {},
   "source": [
    "$$\n",
    "\\begin{align*}\n",
    "\\bar{U}_{(t + \\Delta t)} &= \\left( I + \\frac{i}{\\hbar} F_{(t)}B_{(t)} \\Delta t \\right) \\bar{U}_{(t)} \\\\\n",
    "\\therefore U_{(t + \\Delta t)} &= e^{- \\frac{i}{\\hbar}H(t+\\Delta t)} \\left( I + \\frac{i}{\\hbar} F_{(t)}B_{(t)} \\Delta t \\right) e^{\\frac{i}{\\hbar}Ht} U_{(t)} \\\\\n",
    "\\therefore U_{(t)} &= e^{- \\frac{i}{\\hbar} H t} \\prod^{n}_{i} \\left( e^{- \\frac{i}{\\hbar} H \\Delta t} \\left( I + \\frac{i}{\\hbar} F_{(i\\Delta t)}B_{(i \\Delta t)} \\Delta t \\right) \\right) e^{\\frac{i}{\\hbar}Ht_0} \\\\\n",
    "&\\to e^{- \\frac{i}{\\hbar} Ht} \\exp_{\\leftarrow} \\left( \\frac{i}{\\hbar} \\int^t_{t_0} dt' F_{(t')} B_{(t')} \\right) e^{\\frac{i}{\\hbar}Ht_0} \\ \\ \\ \\ \\ (\\Delta t \\to 0)\n",
    "\\end{align*}\n",
    "$$"
   ]
  },
  {
   "cell_type": "markdown",
   "metadata": {},
   "source": [
    "- 一次近似"
   ]
  },
  {
   "cell_type": "markdown",
   "metadata": {},
   "source": [
    "$$\n",
    "\\begin{align*}\n",
    "U_{(t)} &= e^{- \\frac{i}{\\hbar} H t} \\prod^{n}_{i} \\left( e^{- \\frac{i}{\\hbar} H \\Delta t} \\left( I + \\frac{i}{\\hbar} F_{(i\\Delta t)}B_{(i \\Delta t)} \\Delta t \\right) \\right) e^{\\frac{i}{\\hbar}Ht_0} \\\\\n",
    "&= e^{- \\frac{i}{\\hbar} H t} \\left( e^{- \\frac{i}{\\hbar} H \\Delta t} \\right)^n \\left[ 1 + \\sum^{n}_{i} \\left( \\frac{i}{\\hbar} F_{(i\\Delta t)}B_{(i \\Delta t)} \\Delta t \\right) \\right] e^{\\frac{i}{\\hbar}Ht_0} + \\text{O}(F^2) \\\\\n",
    "&\\to e^{- \\frac{i}{\\hbar} H t} \\left( 1 + \\frac{i}{\\hbar} \\int^t_{t_0} dt' F_{(t')} B_{(t')} \\right) e^{\\frac{i}{\\hbar} Ht_0} + \\text{O}(F^2) \n",
    "\\end{align*}\n",
    "$$"
   ]
  },
  {
   "cell_type": "markdown",
   "metadata": {},
   "source": [
    "演算子の期待値の時間発展 $\\cdots (2.19)$"
   ]
  },
  {
   "cell_type": "markdown",
   "metadata": {},
   "source": [
    "- 演算子の時間発展"
   ]
  },
  {
   "cell_type": "markdown",
   "metadata": {},
   "source": [
    "$$\n",
    "\\begin{align*}\n",
    "A_{(\\tau)} &= U^{\\dagger}_{(\\tau)} A U_{(\\tau)} \\\\\n",
    "&= e^{- \\frac{i}{\\hbar} H t_0} \\left( 1 - \\frac{i}{\\hbar} \\int^\\tau_{t_0} dt' F_{(t')} B_{(t')} \\right) e^{\\frac{i}{\\hbar} H \\tau} A e^{- \\frac{i}{\\hbar} H \\tau} \\left( 1 + \\frac{i}{\\hbar} \\int^\\tau_{t_0} dt' F_{(t')} B_{(t')} \\right) e^{\\frac{i}{\\hbar} Ht_0} + \\text{O}(F^2) \\\\\n",
    "&= e^{\\frac{i}{\\hbar} H (\\tau - t_0)} A e^{-\\frac{i}{\\hbar} H (\\tau - t_0)} + e^{-\\frac{i}{\\hbar}Ht_0} \\left[ e^{\\frac{i}{\\hbar} H \\tau} A e^{- \\frac{i}{\\hbar} H \\tau}, \\frac{i}{\\hbar} \\int^\\tau_{t_0} dt' F_{(t')}B_{(t')} \\right] e^{\\frac{i}{\\hbar}Ht_0} + \\text{O}(F^2) \\\\\n",
    "&= e^{\\frac{i}{\\hbar} H (\\tau - t_0)} A e^{-\\frac{i}{\\hbar} H (\\tau - t_0)} + \\frac{i}{\\hbar} \\int^\\tau_{t_0} dt' F_{(t')} [ A_{(\\tau - t_0)}, B_{(t' - t_0)} ] + \\text{O}(F^2) \\\\\n",
    "\\end{align*}\n",
    "$$"
   ]
  },
  {
   "cell_type": "markdown",
   "metadata": {},
   "source": [
    "[note] $F$の一次近似を考えているので、積分の中では非平衡の時間発展と平衡の時間発展を区別する必要がない。"
   ]
  },
  {
   "cell_type": "markdown",
   "metadata": {},
   "source": [
    "- 期待値の時間発展"
   ]
  },
  {
   "cell_type": "markdown",
   "metadata": {},
   "source": [
    "$$\n",
    "\\begin{align*}\n",
    "\\langle A_{(\\tau)} \\rangle_{eq} - \\langle A \\rangle_{eq} &= \\langle e^{\\frac{i}{\\hbar} H (\\tau - t_0)} A e^{-\\frac{i}{\\hbar} H (\\tau - t_0)} \\rangle_{eq} + \\frac{i}{\\hbar} \\int^\\tau_{t_0} dt' F_{(t')} \\langle [ A_{(\\tau - t_0)}, B_{(t' - t_0)} ] \\rangle_{eq} - \\langle A \\rangle_{eq} + \\text{O}(F^2) \\\\\n",
    "&= \\langle A \\rangle_{eq} + \\frac{i}{\\hbar} \\int^\\tau_{t_0} dt' F_{(t')} \\langle [ A_{(\\tau - t')}, B ] \\rangle_{eq} - \\langle A \\rangle_{eq} + \\text{O}(F^2) \\\\ \n",
    "&= \\frac{i}{\\hbar} \\int^\\tau_{t_0} dt' F_{(t')} \\langle [ A_{(\\tau - t')}, B ] \\rangle_{eq} + \\text{O}(F^2) \\\\ \n",
    "\\end{align*}\n",
    "$$"
   ]
  },
  {
   "cell_type": "markdown",
   "metadata": {},
   "source": [
    "十分に時間が経った時の期待値の変化量 $\\cdots (2.20)$"
   ]
  },
  {
   "cell_type": "markdown",
   "metadata": {},
   "source": [
    "$$\n",
    "\\begin{align*}\n",
    "\\langle \\Delta A_{(\\tau)} \\rangle_{eq} &\\coloneqq \\lim_{t_0 \\to - \\infty} \\langle A_{(\\tau)} \\rangle_{eq} - \\langle A \\rangle_{eq} \\\\\n",
    "&= \\frac{i}{\\hbar} \\int^{\\tau}_{- \\infty} dt F_{(t)} \\langle [ A_{(\\tau - t)}, B] \\rangle_{eq} \\\\\n",
    "&= \\frac{i}{\\hbar} \\int^{\\infty}_{0} dt F_{(\\tau - t)} \\langle [ A_{(t)}, B] \\rangle_{eq} \\ \\ \\ \\ \\ (t \\to \\tau - t) \\\\\n",
    "&= \\int^{\\infty}_{0} dt \\phi_{AB(t)} F_{(\\tau - t)}\n",
    "\\end{align*}\n",
    "$$"
   ]
  },
  {
   "cell_type": "markdown",
   "metadata": {},
   "source": [
    "量子系の応答関数 $\\cdots (2.21)$"
   ]
  },
  {
   "cell_type": "markdown",
   "metadata": {},
   "source": [
    "$$\n",
    "\\phi_{AB(t)} \\coloneqq \\frac{i}{\\hbar} \\langle [A_{(t)}, B] \\rangle_{eq}\n",
    "$$"
   ]
  },
  {
   "cell_type": "markdown",
   "metadata": {},
   "source": [
    "- パルス応答"
   ]
  },
  {
   "cell_type": "markdown",
   "metadata": {},
   "source": [
    "$$\n",
    "\\begin{align*}\n",
    "\\langle \\Delta A_{(\\tau)} \\rangle_{eq} = F_0 \\phi_{AB(\\tau)} \\ \\ \\ \\ \\ (\\text{when.  }F = F_0 \\delta_{(t)}) \\\\\n",
    "\\end{align*}\n",
    "$$"
   ]
  },
  {
   "cell_type": "markdown",
   "metadata": {},
   "source": [
    "- 書き換え"
   ]
  },
  {
   "cell_type": "markdown",
   "metadata": {},
   "source": [
    "$$\n",
    "\\begin{align*}\n",
    "\\phi_{AB(t)} &= \\frac{i}{\\hbar}\\langle [A_{(t)}, B] \\rangle_{eq} \\\\\n",
    "&= \\frac{i}{\\hbar} \\text{Tr} \\left[ \\pi [A_{(t)}, B] \\right] \\\\\n",
    "&= \\frac{i}{\\hbar} \\left( \\text{Tr} \\left[ \\pi A_{(t)} B \\right] - \\text{Tr} \\left[ \\pi B A_{(t)} \\right] \\right) \\\\\n",
    "&= - \\frac{1}{i\\hbar} \\left( - \\text{Tr} \\left[ A_{(t)} B \\pi \\right] + \\text{Tr} \\left[ A_{(t)} \\pi B \\right] \\right) \\\\\n",
    "&= \\frac{1}{i\\hbar} \\text{Tr} \\left[ A_{(t)} [\\pi, B] \\right]\n",
    "\\end{align*}\n",
    "$$"
   ]
  },
  {
   "cell_type": "markdown",
   "metadata": {},
   "source": [
    "カノニカル相関 $\\cdots (2.22) \\sim (2.27)$"
   ]
  },
  {
   "cell_type": "markdown",
   "metadata": {},
   "source": [
    "- カノニカル相関"
   ]
  },
  {
   "cell_type": "markdown",
   "metadata": {},
   "source": [
    "$$\n",
    "\\begin{align*}\n",
    "\\langle X; Y \\rangle &\\coloneqq \\frac{1}{\\beta} \\int^{\\beta}_0 du \\text{Tr} \\left[ e^{uH} X e^{-u H} Y \\pi \\right] \\\\\n",
    "&= \\frac{1}{\\beta} \\int^{\\beta}_0 du \\left( \\text{Tr} \\left[ e^{uH} X e^{-u H} Y \\pi \\right] \\right)^{\\dagger} \\\\\n",
    "&= \\frac{1}{\\beta} \\int^{\\beta}_0 du \\text{Tr} \\left[ \\pi Y e^{-u H} X e^{uH} \\right] \\\\\n",
    "&= \\frac{1}{\\beta} \\int^{\\beta}_0 du \\text{Tr} \\left[ e^{uH} \\pi Y e^{-u H} X \\right] \\\\\n",
    "&= \\frac{1}{\\beta} \\int^{\\beta}_0 du \\text{Tr} \\left[ \\pi e^{uH} Y e^{-u H} X \\right] \\\\\n",
    "&= \\langle Y; X \\rangle\n",
    "\\end{align*}\n",
    "$$"
   ]
  },
  {
   "cell_type": "markdown",
   "metadata": {},
   "source": [
    "$$\n",
    "\\langle X; Y \\rangle = \\frac{1}{\\beta} \\int^{\\beta}_0 du \\langle X_{(-i\\hbar u)} Y \\rangle_{eq} \\to \\langle X Y \\rangle_{eq} \\ \\ \\ \\ \\ (\\hbar \\to 0)\n",
    "$$"
   ]
  },
  {
   "cell_type": "markdown",
   "metadata": {},
   "source": [
    "- 交換子の書き換え"
   ]
  },
  {
   "cell_type": "markdown",
   "metadata": {},
   "source": [
    "$$\n",
    "\\begin{align*}\n",
    "[\\pi, B] &= \\frac{1}{Z} [e^{-\\beta H}, B] \\\\\n",
    "&= \\frac{1}{Z} (e^{-\\beta H} B - B e^{-\\beta H}) \\\\\n",
    "&= \\frac{1}{Z} (e^{-\\beta H} B e^{\\beta H} - B) e^{-\\beta H} \\\\\n",
    "&= \\frac{1}{Z} \\left[ e^{-u H} B e^{u H} \\right]^{u = \\beta}_{u = 0} e^{-\\beta H} \\\\\n",
    "&= \\frac{1}{Z} \\int^{\\beta}_0 du \\frac{d}{du} (e^{-u H} B e^{u H}) e^{-\\beta H} \\\\\n",
    "&= \\frac{i\\hbar}{Z} \\int^{\\beta}_0 du \\frac{d}{d(i \\hbar u)} (e^{\\frac{i}{\\hbar} H (i \\hbar u)} B e^{- \\frac{i}{\\hbar} H (i \\hbar u)}) e^{-\\beta H} \\\\\n",
    "&= \\frac{i\\hbar}{Z} \\int^{\\beta}_0 du \\dot{B}_{(i\\hbar u)} e^{-\\beta H} \\\\\n",
    "&= i\\hbar \\int^{\\beta}_0 du \\dot{B}_{(i\\hbar u)} \\pi \\\\\n",
    "\n",
    "\\\\\n",
    "\n",
    "[\\pi, B] &= \\frac{1}{Z} e^{-\\beta H} (B - e^{\\beta H} B e^{-\\beta H}) \\\\\n",
    "&= \\cdots \\\\\n",
    "&= i\\hbar \\pi \\int^{\\beta}_0 du \\dot{B}_{(-i\\hbar u)}\n",
    "\\end{align*}\n",
    "$$"
   ]
  },
  {
   "cell_type": "markdown",
   "metadata": {},
   "source": [
    "- 応答関数の書き換え"
   ]
  },
  {
   "cell_type": "markdown",
   "metadata": {},
   "source": [
    "$$\n",
    "\\begin{align*}\n",
    "\\phi_{AB(t)} &= \\frac{1}{i\\hbar} \\text{Tr} \\left[A_{(t)} [\\pi, B] \\right] \\\\\n",
    "&= \\frac{1}{i\\hbar} \\text{Tr} \\left[ A_{(t)} i\\hbar \\int^{\\beta}_0 du \\dot{B}_{(i\\hbar u)} \\pi \\right] \\\\\n",
    "\\end{align*}\n",
    "$$"
   ]
  },
  {
   "cell_type": "markdown",
   "metadata": {},
   "source": [
    "$$\n",
    "\\begin{align*}\n",
    "\\phi_{AB(t)} &= \\frac{1}{i\\hbar} \\text{Tr} \\left[A_{(t)} [\\pi, B] \\right] \\\\\n",
    "&= \\frac{1}{i\\hbar} \\text{Tr} \\left[ A_{(t)} i\\hbar \\int^{\\beta}_0 du \\dot{B}_{(i\\hbar u)} \\pi \\right] \\\\\n",
    "&= \\int^\\beta_0 du \\text{Tr} \\left[ A_{(t)} \\dot{B}_{(i\\hbar u)} \\pi \\right] \\\\\n",
    "&= \\int^\\beta_0 du \\langle A_{(t)} \\dot{B}_{(i\\hbar u)} \\rangle_{eq} \\\\\n",
    "&= \\int^\\beta_0 du \\langle A_{(t - i\\hbar u)} \\dot{B} \\rangle_{eq} \\\\\n",
    "&= \\beta \\langle A_{(t)}; \\dot{B} \\rangle \\\\\n",
    "&= \\beta \\langle \\dot{B}; A_{(t)} \\rangle\n",
    "\\end{align*}\n",
    "$$"
   ]
  },
  {
   "cell_type": "markdown",
   "metadata": {},
   "source": [
    "$$\n",
    "\\phi_{AB(t)} \\to \\beta \\langle A_{(t)} \\dot{B} \\rangle_{eq} \\ \\ \\ \\ \\ (\\hbar \\to 0)\n",
    "$$"
   ]
  },
  {
   "cell_type": "markdown",
   "metadata": {},
   "source": [
    "複素アドミッタンス $\\cdots (2.28)$"
   ]
  },
  {
   "cell_type": "markdown",
   "metadata": {},
   "source": [
    "$$\n",
    "\\chi_{AB(\\omega)} \\coloneqq \\int^{\\infty}_0 dt \\phi_{AB(t)} e^{i\\omega t} = \\chi' + i \\chi''\n",
    "$$"
   ]
  },
  {
   "cell_type": "markdown",
   "metadata": {},
   "source": [
    "$$\n",
    "\\begin{align*}\n",
    "\\chi_{AB(-\\omega)} &= \\int^{\\infty}_0 dt \\phi_{AB(t)} e^{-i \\omega t} \\\\\n",
    "&= \\int^{\\infty}_0 dt \\phi_{AB(t)} \\left( e^{i \\omega t} \\right)^{*} \\\\\n",
    "&= \\left( \\int^{\\infty}_0 dt \\phi_{AB(t)} e^{i \\omega t} \\right)^{*} \\\\\n",
    "&= \\chi_{AB(\\omega)}^{*}\n",
    "\\end{align*}\n",
    "$$"
   ]
  },
  {
   "cell_type": "markdown",
   "metadata": {},
   "source": [
    "演算子の応答 $\\cdots (2.29)$"
   ]
  },
  {
   "cell_type": "markdown",
   "metadata": {},
   "source": [
    "$$\n",
    "F_{(t)} = F_0 \\cos{(\\omega t)}\n",
    "$$"
   ]
  },
  {
   "cell_type": "markdown",
   "metadata": {},
   "source": [
    "$$\n",
    "\\begin{align*}\n",
    "\\langle \\Delta A_{(\\tau)} \\rangle_{eq} &= \\int^{\\infty}_{0} dt \\phi_{AB(t)} F_{(\\tau - t)} \\\\\n",
    "&= \\int^{\\infty}_{0} dt \\phi_{AB(t)} F_0 \\cos{\\omega (\\tau - t)} \\\\\n",
    "&= F_0 \\int^{\\infty}_{0} dt \\phi_{AB(t)} \\text{Re} [e^{i \\omega (\\tau - t)}] \\\\\n",
    "&= F_0 \\text{Re} \\left[ \\int^{\\infty}_{0} dt \\phi_{AB(t)} e^{i \\omega (\\tau - t)} \\right] \\\\\n",
    "&= F_0 \\text{Re} \\left[ \\int^{\\infty}_{0} dt \\phi_{AB(t)} e^{- i \\omega t} e^{i \\omega \\tau} \\right] \\\\\n",
    "&= F_0 \\text{Re} \\left[ \\chi_{AB(\\omega)}^{*} e^{i \\omega \\tau} \\right] \\\\\n",
    "&= F_0 \\text{Re} \\left[ \\chi_{AB(\\omega)} e^{-i \\omega \\tau} \\right] \\\\\n",
    "\\end{align*}\n",
    "$$"
   ]
  },
  {
   "cell_type": "markdown",
   "metadata": {},
   "source": [
    "### § 2.2.1.2 クラマース・クローニッヒ関係"
   ]
  },
  {
   "cell_type": "markdown",
   "metadata": {},
   "source": [
    "リーマン・ルベーグの補題"
   ]
  },
  {
   "cell_type": "markdown",
   "metadata": {},
   "source": [
    "$$\n",
    "\\lim_{\\omega \\to 0} \\left| \\int^{\\infty}_0 dt \\phi_{AB(t)} e^{i \\omega t} \\right| = 0 \\ \\ \\ \\ \\ (\\text{Im}[\\omega] > 0)\n",
    "$$"
   ]
  },
  {
   "cell_type": "markdown",
   "metadata": {},
   "source": [
    "- 証明"
   ]
  },
  {
   "cell_type": "markdown",
   "metadata": {},
   "source": [
    "$$\n",
    "\\begin{align*}\n",
    "I &\\coloneqq \\int^{\\infty}_0 dt \\phi_{AB(t)} e^{i\\omega t} \\\\\n",
    "&= \\int^{\\infty}_{- \\frac{\\pi}{\\omega}} ds \\phi_{AB(s + \\frac{\\pi}{\\omega})} e^{i \\omega (s + \\frac{\\pi}{\\omega})} \\ \\ \\ \\ \\ (s = t - \\frac{\\pi}{\\omega}) \\\\\n",
    "&= \\int^{\\infty}_{- \\frac{\\pi}{\\omega}} ds \\phi_{AB(s + \\frac{\\pi}{\\omega})} e^{i \\omega s} e^{i \\pi} \\\\\n",
    "&= - \\left( \\int^{\\infty}_0 ds \\phi_{AB(s + \\frac{\\pi}{\\omega})} e^{i \\omega s} + \\int^0_{- \\frac{\\pi}{\\omega}} ds \\phi_{AB(s + \\frac{\\pi}{\\omega})} e^{i \\omega s} \\right) \\\\\n",
    "\\therefore 2I &= \\int^{\\infty}_0 dt \\left( \\phi_{AB(t)} - \\phi_{AB(t + \\frac{\\pi}{\\omega})} \\right) e^{i \\omega t} - \\int^{0}_{- \\frac{\\pi}{\\omega}} dt \\phi_{AB(t + \\frac{\\pi}{\\omega})} e^{i \\omega t} \\\\\n",
    "\\therefore \\left| 2I \\right| &\\le \\left| \\int^{\\infty}_0 dt \\left( \\phi_{AB(t)} - \\phi_{AB(t + \\frac{\\pi}{\\omega})} \\right) e^{i \\omega t} \\right| + \\left| \\int^{0}_{- \\frac{\\pi}{\\omega}} dt \\phi_{AB(t + \\frac{\\pi}{\\omega})} e^{i \\omega t} \\right| \\\\\n",
    "&\\le \\int^{\\infty}_0 dt \\left| \\phi_{AB(t)} - \\phi_{AB(t + \\frac{\\pi}{\\omega})} \\right| \\left| e^{i \\omega t} \\right| + \\int^{0}_{- \\frac{\\pi}{\\omega}} dt \\left| \\phi_{AB(t + \\frac{\\pi}{\\omega})} \\right| \\left| e^{i \\omega t} \\right| \\\\\n",
    "&\\lt \\int^{\\infty}_0 dt \\left| \\phi_{AB(t)} - \\phi_{AB(t + \\frac{\\pi}{\\omega})} \\right| + \\int^{0}_{- \\frac{\\pi}{\\omega}} dt \\left| \\phi_{AB(t + \\frac{\\pi}{\\omega})} \\right| \\ \\ \\ \\ \\ (\\because \\text{Im}[\\omega] > 0) \\\\\n",
    "\\end{align*}\n",
    "$$\n",
    "\n",
    "- 積分の収束性\n",
    "\n",
    "$$\n",
    "\\begin{align*}\n",
    "\\int^{\\infty}_0 dt \\left| \\phi_{AB(t)} - \\phi_{AB(t + \\frac{\\pi}{\\omega})} \\right| &= \\lim_{\\tau \\to \\infty} \\int^{\\tau}_0 dt \\left| \\phi_{AB(t)} - \\phi_{AB(t + \\frac{\\pi}{\\omega})} \\right| \\\\\n",
    "&\\le \\lim_{\\tau \\to \\infty} \\int^{\\tau}_0 dt \\left( \\left| \\phi_{AB(t)} \\right| + \\left| \\phi_{AB(t + \\frac{\\pi}{\\omega})} \\right| \\right) \\\\\n",
    "&= 2 \\int^{\\infty}_0 dt \\left| \\phi_{AB(t)} \\right| \\ \\ \\ \\ \\ (\\Rightarrow \\text{有界かつ}\\tau\\text{について単調増加})\n",
    "\\end{align*}\n",
    "$$"
   ]
  },
  {
   "cell_type": "markdown",
   "metadata": {},
   "source": [
    "- 絶対値の極限"
   ]
  },
  {
   "cell_type": "markdown",
   "metadata": {},
   "source": [
    "$$\n",
    "\\begin{align*}\n",
    "\\therefore \\lim_{\\omega \\to \\infty} \\left| I \\right| &= \\lim_{\\Delta t \\to 0} \\frac{1}{2} \\int^{\\infty}_0 dt \\left| \\phi_{AB(t + \\Delta t)} - \\phi_{AB(t)} \\right| \\\\\n",
    "&= \\lim_{\\Delta t \\to 0} \\frac{1}{2} \\lim_{\\Delta t' \\to 0} \\sum_{i} \\left| \\phi_{AB(t_i + \\Delta t)} - \\phi_{AB(t_i)} \\right| \\Delta t' \\\\\n",
    "&= \\lim_{\\Delta t \\to 0} \\frac{1}{2} \\sum_{i} \\left| \\phi_{AB(t_{i+1})} - \\phi_{AB(t_i)} \\right| \\Delta t \\ \\ \\ \\ \\ (\\Delta t' = \\Delta t \\text{の条件で極限をとる})\\\\\n",
    "&\\le \\lim_{\\Delta t \\to 0} \\frac{1}{2} \\sum_{i} ( M_i - m_i ) \\Delta t \\\\\n",
    "&= \\lim_{\\Delta t \\to 0} \\frac{1}{2} \\left( S_{(\\Delta t)} - s_{(\\Delta t)} \\right) \\\\\n",
    "&= 0 \\ \\ \\ \\ \\ (\\because \\phi_{AB(t)}\\text{はリーマン可積分})\n",
    "\\end{align*}\n",
    "$$"
   ]
  },
  {
   "cell_type": "markdown",
   "metadata": {},
   "source": [
    "複素アドミッタンス"
   ]
  },
  {
   "cell_type": "markdown",
   "metadata": {},
   "source": [
    "$$\n",
    "\\begin{align*}\n",
    "\\chi_{AB(\\omega)} &= \\int^{\\infty}_0 \\phi_{AB(t)} e^{i\\omega t}\n",
    "\\end{align*}\n",
    "$$"
   ]
  },
  {
   "cell_type": "markdown",
   "metadata": {},
   "source": [
    "- 公式"
   ]
  },
  {
   "cell_type": "markdown",
   "metadata": {},
   "source": [
    "$$\n",
    "\\begin{align*}\n",
    "\\int^a_b dx \\frac{\\epsilon}{x^2 + \\epsilon^2} f_{(x)} &= \\frac{1}{2i} \\int^a_b dx \\left( \\frac{1}{x - i\\epsilon} - \\frac{1}{x + i\\epsilon} \\right) f_{(x)} \\\\\n",
    "&= \\frac{1}{2i} \\int^{a - i\\epsilon}_{b - i\\epsilon} dz \\frac{f_{(z + i\\epsilon)}}{z} + \\int^{b + i\\epsilon} _{a + i\\epsilon} dz \\frac{f_{(z - i\\epsilon)}}{z} \\\\\n",
    "&= \\frac{1}{2i} \\oint dz \\frac{f_{(z)}}{z} + \\text{O}_{(\\epsilon)} \\\\\n",
    "&\\to \\left\\{ \\begin{split}\n",
    "      &\\pi f_{(0)} \\ \\ \\ \\ \\ (\\text{原点が積分経路に含まれる}) \\\\\n",
    "      &0 \\ \\ \\ \\ \\ (\\text{原点が積分経路に含まれない})\n",
    "    \\end{split} \\right.\n",
    "\\end{align*}\n",
    "$$"
   ]
  },
  {
   "cell_type": "markdown",
   "metadata": {},
   "source": [
    "$$\n",
    "\\therefore \\lim_{\\epsilon \\to 0} \\frac{\\epsilon}{x^2 + \\epsilon^2} = \\pi \\delta(x)\n",
    "$$"
   ]
  },
  {
   "cell_type": "markdown",
   "metadata": {},
   "source": [
    "$$\n",
    "\\begin{align*}\n",
    "\\frac{1}{x - i\\epsilon} &= \\frac{x + i\\epsilon}{(x - i\\epsilon)(x + i\\epsilon)} \\\\\n",
    "&= \\frac{x}{x^2 + \\epsilon^2} + i \\frac{\\epsilon}{x^2 + \\epsilon^2} \\\\\n",
    "&\\to \\text{Pv} \\frac{1}{x} + i \\pi \\delta_{(x)}\n",
    "\\end{align*}\n",
    "$$"
   ]
  },
  {
   "cell_type": "markdown",
   "metadata": {},
   "source": [
    "複素平面に拡張された複素アドミッタンス"
   ]
  },
  {
   "cell_type": "markdown",
   "metadata": {},
   "source": [
    "$$\n",
    "\\frac{1}{2\\pi i} \\int^{\\infty}_{- \\infty} d\\omega' \\frac{\\chi_{AB(\\omega')}}{\\omega' - z} = \\left\\{\n",
    "\\begin{align*}\n",
    "&\\chi_{AB(z)} \\ \\ \\ \\ \\ (\\text{Im}[z] > 0) \\\\\n",
    "&0 \\ \\ \\ \\ \\ (\\text{Im}[z] < 0) \\\\\n",
    "\\end{align*}\n",
    "\\right.\n",
    "$$"
   ]
  },
  {
   "cell_type": "markdown",
   "metadata": {},
   "source": [
    "$$\n",
    "\\frac{1}{2\\pi i} \\int^{\\infty}_{\\infty} d\\omega' \\frac{\\chi_{AB(\\omega')}}{\\omega' - (\\omega + i \\epsilon)}\n",
    "$$"
   ]
  },
  {
   "cell_type": "markdown",
   "metadata": {},
   "source": [
    "$$\n",
    "\\begin{align*}\n",
    "\\frac{1}{2\\pi i} \\int^{\\infty}_{-\\infty} d\\omega' \\frac{\\chi_{AB(\\omega')}}{\\omega' - (\\omega + i \\epsilon)} &= \\frac{1}{2\\pi i} \\int^{\\infty}_{\\infty} d\\omega' \\frac{\\chi_{AB(\\omega')}}{(\\omega' - \\omega) - i \\epsilon} \\\\\n",
    "&\\to \\frac{1}{2 \\pi i} \\int^{\\infty}_{-\\infty} d\\omega' \\left( \\text{Pv} \\frac{\\chi_{AB(\\omega')}}{\\omega' - \\omega} + i \\pi \\chi_{AB(\\omega')} \\delta_{(\\omega' - \\omega)} \\right) \\\\\n",
    "&= \\frac{1}{2 \\pi i} \\text{Pv} \\int^{\\infty}_{-\\infty} d\\omega' \\frac{\\chi_{AB(\\omega')}}{\\omega' - \\omega} + \\frac{1}{2} \\chi_{AB(\\omega)} \\\\\n",
    "\\end{align*}\n",
    "$$"
   ]
  },
  {
   "cell_type": "markdown",
   "metadata": {},
   "source": [
    "クラマース・クローニッヒ関係 $\\cdots (2.30)$"
   ]
  },
  {
   "cell_type": "markdown",
   "metadata": {},
   "source": [
    "$$\n",
    "\\begin{align*}\n",
    "\\chi'_{AB(\\omega)} + i\\chi''_{AB(\\omega)} &= \\frac{1}{2 \\pi i} \\text{Pv} \\int^{\\infty}_{- \\infty} d\\omega' \\frac{\\chi'_{AB(\\omega')} + i \\chi''_{AB(\\omega')}}{\\omega' - \\omega} + \\frac{1}{2} \\left( \\chi'_{AB(\\omega)} + i \\chi''_{AB(\\omega)} \\right) \\\\\n",
    "\\therefore \\chi'_{AB(\\omega)} + i\\chi''_{AB(\\omega)} &= \\frac{1}{\\pi} \\text{Pv} \\int^{\\infty}_{-\\infty} d\\omega' \\frac{-i \\chi'_{AB(\\omega')} + \\chi''_{AB(\\omega')}}{\\omega' - \\omega}\n",
    "\\end{align*}\n",
    "$$"
   ]
  },
  {
   "cell_type": "markdown",
   "metadata": {},
   "source": [
    "$$\n",
    "\\begin{align*}\n",
    "\\chi'_{AB(\\omega)} &= \\frac{1}{\\pi} \\text{Pv} \\int^{\\infty}_{-\\infty} d\\omega' \\frac{\\chi''_{AB(\\omega')}}{\\omega' - \\omega} \\\\\n",
    "\\chi''_{AB(\\omega)} &= - \\frac{1}{\\pi} \\text{Pv} \\int^{\\infty}_{-\\infty} d\\omega' \\frac{\\chi'_{AB(\\omega')}}{\\omega' - \\omega} \\\\\n",
    "\\end{align*}\n",
    "$$"
   ]
  },
  {
   "cell_type": "markdown",
   "metadata": {},
   "source": [
    "# 2.2.2 力学応答の揺動散逸定理 (P. 27)"
   ]
  },
  {
   "cell_type": "markdown",
   "metadata": {},
   "source": [
    "##  § 2.2.2.1 パワーロス (P. 27)"
   ]
  },
  {
   "cell_type": "markdown",
   "metadata": {},
   "source": [
    "$$\n",
    "H_{tot} = H - BF_{(t)}\n",
    "$$"
   ]
  },
  {
   "cell_type": "markdown",
   "metadata": {},
   "source": [
    "### タイプ1\n",
    "\n",
    "$$\n",
    "\\Delta A_{(t)} = B_{(t)}\n",
    "$$\n",
    "\n",
    "### タイプ2\n",
    "\n",
    "$$\n",
    "\\Delta A_{(t)} = \\dot{B}_{(t)}\n",
    "$$"
   ]
  },
  {
   "cell_type": "markdown",
   "metadata": {},
   "source": [
    "一周期あたりの仕事W $\\cdots(2.31)$"
   ]
  },
  {
   "cell_type": "markdown",
   "metadata": {},
   "source": [
    "$$\n",
    "\\begin{align*}\n",
    "W &= \\int^{\\frac{2\\pi}{\\omega}}_{0} dt \\frac{dF_{(t)}}{dt} \\text{Tr}\\left( \\frac{\\partial H_{tot}} {\\partial F} \\rho_{(t)} \\right) \\\\\n",
    "&= - \\int^{\\frac{2\\pi}{\\omega}}_{0} dt \\frac{dF_{(t)}}{dt} \\langle B_{(t)} \\rangle_{eq} \\ \\ \\ \\ \\ \\left( \\because \\frac{\\partial H_{tot}} {\\partial F} = -B \\right) \\\\\n",
    "\\end{align*}\n",
    "$$"
   ]
  },
  {
   "cell_type": "markdown",
   "metadata": {},
   "source": [
    "単位時間あたりの仕事$P$ $\\cdots(2.32)$"
   ]
  },
  {
   "cell_type": "markdown",
   "metadata": {},
   "source": [
    "- タイプ1 $(\\Delta A_{(t)} = B_{(t)})$"
   ]
  },
  {
   "cell_type": "markdown",
   "metadata": {},
   "source": [
    "$$\n",
    "\\begin{align*}\n",
    "P^{(1)} &= - \\frac{\\omega}{2 \\pi} \\int^{\\frac{2\\pi}{\\omega}}_{0} dt \\frac{dF_{(t)}}{dt} \\langle B_{(t)} \\rangle_{eq} \\\\\n",
    "&= - \\frac{\\omega}{2 \\pi} \\int^{\\frac{2\\pi}{\\omega}}_{0} dt \\frac{dF_{(t)}}{dt} \\langle \\Delta A_{(t)} \\rangle_{eq} \\ \\ \\ \\ \\ \\left(\\because \\Delta A_{(t)} = B_{(t)} \\right) \\\\\n",
    "&= - \\frac{\\omega}{2 \\pi} \\int^{\\frac{2\\pi}{\\omega}}_{0} dt (-\\omega) F_0 \\sin{(\\omega t)} F_0 \\text{Re} \\left[ \\chi_{AB(\\omega)} e^{-i\\omega t} \\right] \\\\\n",
    "&= \\frac{\\omega^2 F_0^2}{2 \\pi} \\text{Re} \\left[ \\chi_{AB(\\omega)} \\int^{\\frac{2\\pi}{\\omega}}_{0} dt \\sin{(\\omega t)} e^{-i\\omega t} \\right] \\\\\n",
    "&= \\frac{\\omega^2 F_0^2}{2 \\pi} \\text{Re} \\left[ \\chi_{AB(\\omega)} \\int^{\\frac{2\\pi}{\\omega}}_{0} dt (-i) \\sin^2{(\\omega t)} \\right] \\\\\n",
    "&= \\frac{\\omega F_0^2}{2} \\chi''_{AB(\\omega)}\n",
    "\\end{align*}\n",
    "$$"
   ]
  },
  {
   "cell_type": "markdown",
   "metadata": {},
   "source": [
    "- タイプ2 $(\\Delta A_{(t)} = \\dot{B}_{(t)})$"
   ]
  },
  {
   "cell_type": "markdown",
   "metadata": {},
   "source": [
    "$$\n",
    "\\begin{align*}\n",
    "P^{(2)} &= - \\frac{\\omega}{2 \\pi} \\int^{\\frac{2\\pi}{\\omega}}_{0} dt \\frac{dF_{(t)}}{dt} \\langle B_{(t)} \\rangle_{eq} \\\\\n",
    "&= - \\frac{\\omega}{2 \\pi} \\left[ F_{(t)} \\langle B_{(t)} \\rangle_{eq} \\right]^{\\frac{2\\pi}{\\omega}}_{0} + \\frac{\\omega}{2 \\pi} \\int^{\\frac{2\\pi}{\\omega}}_{0} dt F_{(t)} \\frac{d}{dt} \\langle B_{(t)} \\rangle_{eq} \\\\\n",
    "&= \\frac{\\omega}{2 \\pi} \\int^{\\frac{2\\pi}{\\omega}}_{0} dt F_{(t)} \\langle \\dot{B}_{(t)} \\rangle_{eq} \\ \\ \\ \\ \\ \\left( \\because \\text{定常状態の周期性} \\right) \\\\\n",
    "&= \\frac{\\omega}{2 \\pi} \\int^{\\frac{2\\pi}{\\omega}}_{0} dt F_{(t)} \\langle \\Delta A_{(t)} \\rangle_{eq} \\ \\ \\ \\ \\ \\left( \\because \\Delta A_{(t)} = \\dot{B}_{(t)} \\right) \\\\\n",
    "&= \\frac{\\omega}{2 \\pi} \\int^{\\frac{2\\pi}{\\omega}}_{0} dt F_0 \\cos{(\\omega t)} F_0 \\text{Re} \\left[ \\chi_{AB(\\omega)} e^{-i\\omega t} \\right] \\\\\n",
    "&= \\frac{\\omega}{2 \\pi} F_{0}^{2} \\text{Re} \\left[ \\chi_{AB(\\omega)} \\int^{\\frac{2\\pi}{\\omega}}_{0} dt \\cos{(\\omega t)} e^{-i\\omega t} \\right] \\\\\n",
    "&= \\frac{\\omega}{2 \\pi} F_{0}^{2} \\text{Re} \\left[ \\chi_{AB(\\omega)} \\int^{\\frac{2\\pi}{\\omega}}_{0} dt \\cos^2{(\\omega t)} \\right] \\\\\n",
    "&= \\frac{F_0^2}{2} \\chi'_{AB(\\omega)}\n",
    "\\end{align*}\n",
    "$$"
   ]
  },
  {
   "cell_type": "markdown",
   "metadata": {},
   "source": [
    "等温過程応答係数$\\chi^{T}_{AB}$ $\\cdots(2.34)$"
   ]
  },
  {
   "cell_type": "markdown",
   "metadata": {},
   "source": [
    "$$\n",
    "\\begin{align*}\n",
    "\\chi^{T}_{AB} &= \\left. \\frac{\\partial}{\\partial F_0} \\frac{\\text{Tr}\\left[ e^{-\\beta (H - F_0 B)} A \\right]}{\\text{Tr}\\left[ e^{-\\beta(H - F_0B)} \\right]} \\right|_{F_0 \\to 0} \\\\\n",
    "&= \\left. \\frac{1}{Z} \\left\\{ \\frac{\\partial}{\\partial F_0} \\text{Tr}\\left[ e^{-\\beta (H - F_0 B)} A \\right] - \\langle A \\rangle_{eq} \\frac{\\partial}{\\partial F_0} \\text{Tr}\\left[ e^{-\\beta(H - F_0B)} \\right] \\right\\} \\right|_{F_0 \\to 0} \\\\\n",
    "&= \\frac{1}{Z} \\left\\{ \\text{Tr} \\left[ \\int^1_0 dy e^{-\\beta H(1-y)} (\\beta B) e^{-\\beta H y}A \\right] - \\langle A \\rangle_{eq} \\text{Tr} \\left[\\int^1_0 dy e^{-\\beta H(1-y)} (\\beta B) e^{-\\beta H y} \\right] \\right\\} \\\\\n",
    "&= \\frac{1}{Z} \\text{Tr} \\left[\\int^1_0 dy e^{-\\beta H(1-y)} (\\beta B) e^{-\\beta H y} (A - \\langle A \\rangle_{eq}) \\right] \\\\\n",
    "&= \\frac{1}{Z} \\text{Tr} \\left[\\int^{\\beta}_0 du e^{(u H-\\beta H)} B e^{-u H} (A - \\langle A \\rangle_{eq}) \\right] \\ \\ \\ \\ \\ (u \\coloneqq \\beta y) \\\\\n",
    "&= \\int^{\\beta}_0 du \\frac{1}{Z} \\text{Tr} \\left[ e^{-\\beta H} e^{u H} B e^{-u H} (A - \\langle A \\rangle_{eq}) \\right] \\\\\n",
    "&= \\int^{\\beta}_0 du \\langle e^{u H} B e^{-u H} (A - \\langle A \\rangle_{eq}) \\rangle_{eq} \\\\\n",
    "&= \\int^{\\beta}_0 du \\langle B_{(-i\\hbar u)}  (A - \\langle A \\rangle_{eq}) \\rangle_{eq} \\ \\ \\ \\ \\ \\left( \\because e^{u H}\\text{を時間発展演算子とみなした} \\right) \\\\\n",
    "&= \\int^{\\beta}_0 du \\langle B (A_{(i \\hbar u)} - \\langle A \\rangle_{eq}) \\rangle_{eq} \\ \\ \\ \\ \\ \\left( \\because \\text{平衡状態の平均は時間に依存しない} \\right) \\\\\n",
    "&= \\int^{\\beta}_0 du \\left( \\langle B A_{(i \\hbar u)} \\rangle_{eq} - \\langle B \\rangle_{eq} \\langle A \\rangle_{eq} \\right) \\\\\n",
    "&= \\int^{\\beta}_0 du \\langle \\Delta B \\Delta A_{(i \\hbar u)} \\rangle_{eq} \\ \\ \\ \\ \\ \\left( \\text{ref.} \\ \\ \\text{Cov}(xy) = \\text{E}[xy] - \\text{E}[x]\\text{E}[y] \\right) \\\\\n",
    "\\end{align*}\n",
    "$$"
   ]
  },
  {
   "cell_type": "markdown",
   "metadata": {},
   "source": [
    "熱力学的応答関数と力学的応答関数の差 $\\cdots(2.35)$"
   ]
  },
  {
   "cell_type": "markdown",
   "metadata": {},
   "source": [
    "- 力学的応答関数の$\\omega \\to 0$極限を求める"
   ]
  },
  {
   "cell_type": "markdown",
   "metadata": {},
   "source": [
    "$$\n",
    "\\begin{align*}\n",
    "\\lim_{\\omega \\to 0} \\chi_{AB(\\omega)} &= \\lim_{\\omega \\to 0} \\int^{\\infty}_0 dt \\phi_{AB(t)} e^{-i \\omega t} \\\\\n",
    "&= \\lim_{\\tau \\to \\infty} \\int^{\\tau}_0 dt \\phi_{AB(t)} \\\\\n",
    "&= \\lim_{\\tau \\to \\infty} \\int^{\\tau}_0 dt \\int^{\\beta}_0 du \\langle \\dot{B}_{(-i \\hbar u)} A_{(t)} \\rangle_{eq} \\ \\ \\ \\ \\ (\\because \\text{(2.25)}) \\\\\n",
    "&= - \\lim_{\\tau \\to \\infty} \\int^{\\tau}_0 dt \\int^{\\beta}_0 du \\frac{d}{dt} \\langle B A_{(t + i \\hbar u)} \\rangle_{eq} \\ \\ \\ \\ \\ (\\because (公式1)) \\\\\n",
    "&= - \\int^{\\beta}_0 du \\lim_{\\tau \\to \\infty} \\left[ \\langle B A_{(t + i \\hbar u)} \\rangle_{eq} \\right]^{\\tau}_0 \\\\\n",
    "&= \\int^{\\beta}_0 du \\left( \\langle B A_{(i \\hbar u)} \\rangle_{eq} - \\lim_{\\tau \\to \\infty} \\langle B A_{(\\tau + i \\hbar u)} \\rangle_{eq} \\right)\n",
    "\\end{align*}\n",
    "$$"
   ]
  },
  {
   "cell_type": "markdown",
   "metadata": {},
   "source": [
    "- 差を計算する"
   ]
  },
  {
   "cell_type": "markdown",
   "metadata": {},
   "source": [
    "$$\n",
    "\\begin{align*}\n",
    "\\chi^{T}_{AB} - \\chi_{AB} &= \\int^{\\beta}_0 du \\langle \\Delta B \\Delta A_{(i \\hbar u)} \\rangle - \\int^{\\beta}_0 du \\left( \\langle B A_{(i \\hbar u)} \\rangle_{eq} - \\lim_{\\tau \\to \\infty} \\langle B A_{(\\tau + i \\hbar u)} \\rangle_{eq} \\right) \\\\\n",
    "&= \\int^{\\beta}_0 du \\left( \\langle B A_{(i \\hbar u)} \\rangle_{eq} - \\langle B \\rangle_{eq} \\langle A \\rangle_{eq} \\right) - \\int^{\\beta}_0 du \\left( \\langle B A_{(i \\hbar u)} \\rangle_{eq} - \\lim_{\\tau \\to \\infty} \\langle B A_{(\\tau + i \\hbar u)} \\rangle_{eq} \\right) \\\\\n",
    "&= \\int^{\\beta}_0 du \\left( \\lim_{\\tau \\to \\infty} \\langle B A_{(\\tau + i \\hbar u)} \\rangle_{eq} - \\langle B \\rangle_{eq} \\langle A \\rangle_{eq} \\right) \\\\\n",
    "&= \\lim_{\\tau \\to \\infty} \\int^{\\beta}_0 du \\left( \\langle B A_{(\\tau + i \\hbar u)} \\rangle_{eq} - \\langle B \\rangle_{eq} \\langle A \\rangle_{eq} \\right) \\\\\n",
    "&= \\lim_{\\tau \\to \\infty} \\int^{\\beta}_0 du \\langle \\Delta B \\Delta A_{(\\tau + i \\hbar u)} \\rangle_{eq}\n",
    "\\end{align*}\n",
    "$$"
   ]
  },
  {
   "cell_type": "markdown",
   "metadata": {},
   "source": [
    "##  § 2.2.2.2 揺動散逸定理 (P. 29)"
   ]
  },
  {
   "cell_type": "markdown",
   "metadata": {},
   "source": [
    "時間反転"
   ]
  },
  {
   "cell_type": "markdown",
   "metadata": {},
   "source": [
    "$$\n",
    "\\begin{align*}\n",
    "\\langle [A_{(t)}, B] \\rangle_{eq}\n",
    "&= \\text{Tr} \\left[ \\pi [A_{(t)}, B] \\right] \\\\\n",
    "&= \\text{Tr} \\left[ \\left( T \\pi [A_{(t)}, B] T^{\\dagger} \\right)^{\\dagger} \\right] \\\\\n",
    "&= \\text{Tr} \\left[ [B^{\\dagger}, A^{\\dagger}_{(-t)}] \\pi^{\\dagger} \\right] \\\\\n",
    "&= - \\text{Tr} \\left[ [A_{(-t)}, B] \\pi \\right] \\\\\n",
    "&= - \\langle [A_{(-t)}, B] \\rangle_{eq} \\\\\n",
    "\\end{align*}\n",
    "$$"
   ]
  },
  {
   "cell_type": "markdown",
   "metadata": {},
   "source": [
    "- タイプ1 $(A = B)$"
   ]
  },
  {
   "cell_type": "markdown",
   "metadata": {},
   "source": [
    "$$\n",
    "\\begin{align*}\n",
    "\\langle [A_{(t)}, B] \\rangle_{eq} &= \\langle [B_{(t)}, B] \\rangle_{eq} \\\\\n",
    "&= \\langle [B, B_{(-t)}] \\rangle_{eq} \\\\\n",
    "&= - \\langle [B_{(-t)}, B] \\rangle_{eq} \\\\\n",
    "&= - \\langle [A_{(-t)}, B] \\rangle_{eq} \\\\\n",
    "\\end{align*}\n",
    "$$"
   ]
  },
  {
   "cell_type": "markdown",
   "metadata": {},
   "source": [
    "- タイプ2 $(A = \\dot{B})$"
   ]
  },
  {
   "cell_type": "markdown",
   "metadata": {},
   "source": [
    "$$\n",
    "\\begin{align*}\n",
    "\\langle [A_{(t)}, B] \\rangle_{eq} &= \\langle [\\dot{B}_{(t)}, B] \\rangle_{eq} \\\\\n",
    "&= \\frac{d}{dt} \\langle [B_{(t)}, B] \\rangle_{eq} \\\\\n",
    "&= \\frac{d}{dt} \\langle [B, B_{(-t)}] \\rangle_{eq} \\\\\n",
    "&= - \\frac{d}{dt} \\langle [B_{(-t)}, B] \\rangle_{eq} \\\\\n",
    "&= \\langle [\\dot{B}_{(-t)}, B] \\rangle_{eq} \\\\\n",
    "&= \\langle [A_{(-t)}, B] \\rangle_{eq} \\\\\n",
    "\\end{align*}\n",
    "$$"
   ]
  },
  {
   "cell_type": "markdown",
   "metadata": {},
   "source": [
    "応答関数$\\phi_{AB}$"
   ]
  },
  {
   "cell_type": "markdown",
   "metadata": {},
   "source": [
    "- タイプ1"
   ]
  },
  {
   "cell_type": "markdown",
   "metadata": {},
   "source": [
    "$$\n",
    "\\begin{align*}\n",
    "\\phi_{AB(\\omega)} &= \\int^{\\infty}_{\\infty} dt \\frac{i}{\\hbar} \\langle [A_{(t)}, B] \\rangle_{eq} e^{i\\omega t} \\\\\n",
    "&= \\int^{\\infty}_0 dt \\frac{i}{\\hbar} \\langle [A_{(t)}, B] \\rangle_{eq} (e^{i \\omega t} - e^{-i \\omega t}) \\\\\n",
    "&= 2i \\int^{\\infty}_0 dt \\frac{i}{\\hbar} \\langle [A_{(t)}, B] \\rangle_{eq} \\text{Im}[e^{i \\omega t}] \\\\\n",
    "&= 2i \\text{Im} \\left[ \\int^{\\infty}_0 dt \\frac{i}{\\hbar} \\langle [A_{(t)}, B] \\rangle_{eq} e^{i \\omega t} \\right] \\\\\n",
    "&= 2i \\text{Im} [\\chi_{AB(\\omega)}] \\\\\n",
    "&= 2 \\chi'_{AB(\\omega)}\n",
    "\\end{align*}\n",
    "$$"
   ]
  },
  {
   "cell_type": "markdown",
   "metadata": {},
   "source": [
    "- タイプ2"
   ]
  },
  {
   "cell_type": "markdown",
   "metadata": {},
   "source": [
    "$$\n",
    "\\begin{align*}\n",
    "\\phi_{AB(\\omega)} &= \\int^{\\infty}_{\\infty} dt \\frac{i}{\\hbar} \\langle [A_{(t)}, B] \\rangle_{eq} e^{i\\omega t} \\\\\n",
    "&= \\int^{\\infty}_0 dt \\frac{i}{\\hbar} \\langle [A_{(t)}, B] \\rangle_{eq} (e^{i \\omega t} + e^{-i \\omega t}) \\\\\n",
    "&= 2 \\int^{\\infty}_0 dt \\frac{i}{\\hbar} \\langle [A_{(t)}, B] \\rangle_{eq} \\text{Re}[e^{i \\omega t}] \\\\\n",
    "&= 2 \\text{Re} \\left[ \\int^{\\infty}_0 dt \\frac{i}{\\hbar} \\langle [A_{(t)}, B] \\rangle_{eq} e^{i \\omega t} \\right] \\\\\n",
    "&= 2 \\text{Re} [\\chi_{AB(\\omega)}] \\\\\n",
    "&= 2 \\chi''_{AB(\\omega)}\n",
    "\\end{align*}\n",
    "$$"
   ]
  },
  {
   "cell_type": "markdown",
   "metadata": {},
   "source": [
    "KMS条件"
   ]
  },
  {
   "cell_type": "markdown",
   "metadata": {},
   "source": [
    "- 一般論"
   ]
  },
  {
   "cell_type": "markdown",
   "metadata": {},
   "source": [
    "$$\n",
    "\\begin{align*}\n",
    "\\langle AB_{(t + i\\hbar\\beta)} \\rangle_{eq} &= \\text{Tr}[\\pi A e^{-\\beta H} B_{(t)} e^{\\beta H}] \\\\\n",
    "&= \\frac{1}{Z} \\text{Tr} [e^{-\\beta H} A e^{-\\beta H} B_{(t)} e^{\\beta H}] \\\\\n",
    "&= \\frac{1}{Z} \\text{Tr} [A e^{-\\beta H} B_{(t)} e^{\\beta H} e^{-\\beta H}] \\\\\n",
    "&= \\frac{1}{Z} \\text{Tr} [A e^{-\\beta H} B_{(t)}] \\\\\n",
    "&= \\frac{1}{Z} \\text{Tr} [e^{-\\beta H} B_{(t)} A] \\\\\n",
    "&= \\langle B_{(t)} A \\rangle_{eq}\n",
    "\\end{align*}\n",
    "$$"
   ]
  },
  {
   "cell_type": "markdown",
   "metadata": {},
   "source": [
    "- 特に、"
   ]
  },
  {
   "cell_type": "markdown",
   "metadata": {},
   "source": [
    "$$\n",
    "\\langle \\Delta B \\Delta A_{(t + i\\hbar\\beta)} \\rangle_{eq} = \\langle \\Delta A_{(t)} \\Delta B \\rangle_{eq}\n",
    "$$"
   ]
  },
  {
   "cell_type": "markdown",
   "metadata": {},
   "source": [
    "- KMS条件 (積分形)"
   ]
  },
  {
   "cell_type": "markdown",
   "metadata": {},
   "source": [
    "$$\n",
    "\\begin{align*}\n",
    "\\int_{C} dz \\langle \\Delta B \\Delta A_{(z)} \\rangle_{eq} e^{i \\omega z} &= 0 \\\\\n",
    "\\therefore \\int^{\\infty}_{-\\infty} dt \\langle \\Delta B \\Delta A_{(t)} \\rangle_{eq} e^{i \\omega t} &= \\int^{\\infty}_{-\\infty} dt \\langle \\Delta B \\Delta A_{(t + i \\hbar \\beta)} \\rangle_{eq} e^{i \\omega (t + i \\hbar \\beta)} \\\\\n",
    "&= e^{- \\hbar \\beta \\omega}\\int^{\\infty}_{-\\infty} dt \\langle \\Delta B \\Delta A_{(t + i \\hbar \\beta)} \\rangle_{eq} e^{i \\omega t} \\\\\n",
    "&= e^{- \\hbar \\beta \\omega} \\int^{\\infty}_{-\\infty} dt \\langle \\Delta A_{(t)} \\Delta B \\rangle_{eq} e^{i \\omega t} \\\\\n",
    "\\end{align*}\n",
    "$$"
   ]
  },
  {
   "cell_type": "markdown",
   "metadata": {},
   "source": [
    "応答関数$\\phi_{AB}$"
   ]
  },
  {
   "cell_type": "markdown",
   "metadata": {},
   "source": [
    "- 準備"
   ]
  },
  {
   "cell_type": "markdown",
   "metadata": {},
   "source": [
    "$$\n",
    "\\begin{align*}\n",
    "[ A_{(t)}, B ]\n",
    "&= [ \\Delta A_{(t)} + \\langle A \\rangle_{eq}, \\Delta B + \\langle B \\rangle_{eq}] \\\\\n",
    "&= [ \\Delta A_{(t)}, \\Delta B ]\n",
    "\\end{align*}\n",
    "$$"
   ]
  },
  {
   "cell_type": "markdown",
   "metadata": {},
   "source": [
    "- $\\phi_{AB}$を変形 $(\\langle \\Delta A_{(t)} \\Delta B \\rangle_{eq}\\text{の形})$"
   ]
  },
  {
   "cell_type": "markdown",
   "metadata": {},
   "source": [
    "$$\n",
    "\\begin{align*}\n",
    "\\phi_{AB} &= \\frac{i}{\\hbar} \\int^{\\infty}_{-\\infty} dt \\langle [A_{(t)}, B] \\rangle_{eq} e^{i \\omega t} \\\\\n",
    "&= \\frac{i}{\\hbar} \\int^{\\infty}_{- \\infty} dt \\langle [ \\Delta A_{(t)}, \\Delta B ] \\rangle_{eq} e^{i \\omega t} \\\\\n",
    "&= \\frac{i}{\\hbar} \\int^{\\infty}_{- \\infty} dt \\left( \\langle \\Delta A_{(t)}\\Delta B \\rangle_{eq} - \\langle \\Delta B \\Delta A_{(t)} \\rangle_{eq} \\right) e^{i \\omega t} \\\\\n",
    "&= \\frac{i}{\\hbar} \\int^{\\infty}_{- \\infty} dt \\left( \\langle \\Delta A_{(t)}\\Delta B \\rangle_{eq} - e^{-\\hbar\\beta\\omega} \\langle \\Delta A_{(t)} \\Delta B \\rangle_{eq} \\right) e^{i \\omega t} \\\\\n",
    "&= \\frac{i}{\\hbar} (1 - e^{-\\hbar\\beta\\omega}) \\int^{\\infty}_{- \\infty} dt \\langle \\Delta A_{(t)}\\Delta B \\rangle_{eq} e^{i \\omega t} \\\\\n",
    "\\end{align*}\n",
    "$$"
   ]
  },
  {
   "cell_type": "markdown",
   "metadata": {},
   "source": [
    "- $\\phi_{AB}$を変形 $(\\langle \\Delta B \\Delta A_{(t)} \\rangle_{eq}\\text{の形})$"
   ]
  },
  {
   "cell_type": "markdown",
   "metadata": {},
   "source": [
    "$$\n",
    "\\begin{align*}\n",
    "\\phi_{AB} &= \\frac{i}{\\hbar} (1 - e^{-\\hbar\\beta\\omega}) \\int^{\\infty}_{- \\infty} dt \\langle \\Delta A_{(t)}\\Delta B \\rangle_{eq} e^{i \\omega t} \\\\\n",
    "&= (\\frac{i}{\\hbar} 1 - e^{-\\hbar\\beta\\omega}) \\int^{\\infty}_{- \\infty} dt e^{\\hbar\\beta\\omega} \\langle \\Delta B \\Delta A_{(t)} \\rangle_{eq} e^{i \\omega t} \\\\\n",
    "&= \\frac{i}{\\hbar} (e^{\\hbar\\beta\\omega} - 1) \\int^{\\infty}_{- \\infty} dt \\langle \\Delta B \\Delta A_{(t)} \\rangle_{eq} e^{i \\omega t} \\\\\n",
    "\\end{align*}\n",
    "$$"
   ]
  },
  {
   "cell_type": "markdown",
   "metadata": {},
   "source": [
    "- $\\phi_{AB}$を変換 $(C_{AB}\\text{の形})$ $\\cdots (2.44)$"
   ]
  },
  {
   "cell_type": "markdown",
   "metadata": {},
   "source": [
    "$$\n",
    "\\begin{align*}\n",
    "C_{AB} &= \\int^{\\infty}_{-\\infty} dt \\frac{1}{2} \\left[ \\langle \\Delta A_{(t)} \\Delta B \\rangle_{eq} + \\langle \\Delta B \\Delta A_{(t)} \\rangle_{eq} \\right] e^{i\\omega t} \\\\\n",
    "&= \\frac{1}{2} \\left[ \\int^{\\infty}_{-\\infty} dt \\langle \\Delta A_{(t)} \\Delta B \\rangle_{eq} e^{i\\omega t} + \\int^{\\infty}_{-\\infty} dt \\langle \\Delta B \\Delta A_{(t)} \\rangle_{eq} e^{i\\omega t} \\right] \\\\\n",
    "&= \\frac{1}{2} \\left[ \\frac{1}{\\frac{i}{\\hbar} (1 - e^{-\\hbar\\beta\\omega})} \\phi_{AB} + \\frac{1}{\\frac{i}{\\hbar} (e^{\\hbar\\beta\\omega} - 1)} \\phi_{AB} \\right] \\\\\n",
    "&= \\frac{\\hbar}{2i} \\frac{e^{\\frac12 \\hbar\\beta\\omega} + e^{-\\frac12 \\hbar\\beta\\omega}}{e^{\\frac12 \\hbar\\beta\\omega} - e^{-\\frac12 \\hbar\\beta\\omega}} \\phi_{AB} \\\\\n",
    "&= \\frac{\\frac{\\hbar\\omega}{2}}{i\\omega} \\coth{\\left( \\frac{\\hbar\\beta\\omega}{2} \\right)} \\phi_{AB} \\\\\n",
    "\\therefore \\phi_{AB} &= \\frac{i\\omega}{\\left( \\frac{\\hbar\\omega}{2} \\right) \\coth{\\left( \\frac{\\beta\\hbar\\omega}{2} \\right)}} C_{AB}\n",
    "\\end{align*}\n",
    "$$"
   ]
  },
  {
   "cell_type": "markdown",
   "metadata": {},
   "source": [
    "散逸とゆらぎの関係"
   ]
  },
  {
   "cell_type": "markdown",
   "metadata": {},
   "source": [
    "- タイプ1の $\\chi''_{AB}$ $\\cdots (2.45)$"
   ]
  },
  {
   "cell_type": "markdown",
   "metadata": {},
   "source": [
    "$$\n",
    "\\begin{align*}\n",
    "\\chi''_{AB} &= \\frac{1}{2i} \\phi_{AB} \\\\\n",
    "&= \\frac{1}{\\hbar \\coth{\\left( \\frac{\\beta\\hbar\\omega}{2} \\right)}} C_{AB}\n",
    "\\end{align*}\n",
    "$$"
   ]
  },
  {
   "cell_type": "markdown",
   "metadata": {},
   "source": [
    "- タイプ2の $\\chi'_{AB}$ $\\cdots (2.46)$"
   ]
  },
  {
   "cell_type": "markdown",
   "metadata": {},
   "source": [
    "$$\n",
    "\\begin{align*}\n",
    "C_{A\\dot{B}} &= \\int^{\\infty}_{-\\infty} dt \\frac12 \\left[ \\langle \\Delta A_{(t)} \\Delta \\dot{B} \\rangle_{eq} + \\langle \\Delta \\dot{B} \\Delta A_{(t)} \\rangle_{eq} \\right] e^{i\\omega t} \\\\\n",
    "&= - \\int^{\\infty}_{-\\infty} dt \\frac12 \\left( \\frac{d}{dt} \\left[ \\langle \\Delta A_{(t)} \\Delta B \\rangle_{eq} + \\langle \\Delta B \\Delta A_{(t)} \\rangle_{eq} \\right] \\right) e^{i\\omega t} \\ \\ \\ \\ \\ (\\because (\\text{公式1})) \\\\\n",
    "&= \\int^{\\infty}_{-\\infty} dt \\frac12 \\left[ \\langle \\Delta A_{(t)} \\Delta B \\rangle_{eq} + \\langle \\Delta B \\Delta A_{(t)} \\rangle_{eq} \\right] \\frac{d}{dt} e^{i\\omega t} \\ \\ \\ \\ \\ (\\because \\text{混合性}) \\\\\n",
    "&= i \\omega \\int^{\\infty}_{-\\infty} dt \\frac12 \\left[ \\langle \\Delta A_{(t)} \\Delta B \\rangle_{eq} + \\langle \\Delta B \\Delta A_{(t)} \\rangle_{eq} \\right] e^{i\\omega t} \\\\\n",
    "&= i \\omega C_{AB} \\\\\n",
    "\\end{align*}\n",
    "$$"
   ]
  },
  {
   "cell_type": "markdown",
   "metadata": {},
   "source": [
    "$$\n",
    "\\begin{align*}\n",
    "\\chi'_{AB} &= \\frac12 \\phi_{AB} \\\\\n",
    "&= \\frac{i\\omega}{\\hbar\\omega \\coth{\\left( \\frac{\\beta\\hbar\\omega}{2} \\right)}} C_{AB} \\\\\n",
    "&= \\frac{1}{\\hbar\\omega \\coth{\\left( \\frac{\\beta\\hbar\\omega}{2} \\right)}} C_{A\\dot{B}} \\\\\n",
    "\\end{align*}\n",
    "$$"
   ]
  },
  {
   "cell_type": "markdown",
   "metadata": {},
   "source": [
    "タイプ2: $\\omega \\to 0$の極限"
   ]
  },
  {
   "cell_type": "markdown",
   "metadata": {},
   "source": [
    "$$\n",
    "\\begin{align*}\n",
    "\\chi'_{AB} &= \\frac{1}{\\hbar\\omega \\coth{\\left( \\frac{\\beta\\hbar\\omega}{2} \\right)}} C_{A\\dot{B}} \\\\\n",
    "&\\to \\frac{\\frac{\\beta}{2} \\frac{\\beta\\hbar\\omega}{2}}{\\frac{\\beta\\hbar\\omega}{2}} \\int^{\\infty}_{-\\infty} dt C_{A\\dot{B}(to)} \\ \\ \\ \\ \\ \\left( \\because \\frac{1}{\\coth{(x)}} = \\tanh{(x)} = x + \\text{O}(x^3) \\right) \\\\\n",
    "&= \\frac{\\beta}{2} \\int^{\\infty}_{-\\infty} dt C_{A\\dot{B}(t)}\n",
    "\\end{align*}\n",
    "$$"
   ]
  },
  {
   "cell_type": "markdown",
   "metadata": {},
   "source": [
    "# 2.2.3 分布応答の線形応答と揺動散逸定理 (P. 31)"
   ]
  },
  {
   "cell_type": "markdown",
   "metadata": {},
   "source": [
    "$$\n",
    "H_{tot} = H_s + \\sum_{k} H_k + H_{ks}\n",
    "$$"
   ]
  },
  {
   "cell_type": "markdown",
   "metadata": {},
   "source": [
    "分布関数 $\\rho_0$"
   ]
  },
  {
   "cell_type": "markdown",
   "metadata": {},
   "source": [
    "- $e^{-u (G+X)}$ を計算する $\\cdots (2.53)$"
   ]
  },
  {
   "cell_type": "markdown",
   "metadata": {},
   "source": [
    "$$\n",
    "\\begin{align*}\n",
    "\\sigma_u &\\coloneqq e^{-u ( G + X )} \\\\\n",
    "\\bar{\\sigma}_u &\\coloneqq e^{uG}\\sigma_u\n",
    "\\end{align*}\n",
    "$$"
   ]
  },
  {
   "cell_type": "markdown",
   "metadata": {},
   "source": [
    "$$\n",
    "\\begin{align*}\n",
    "\\frac{\\partial}{\\partial u} \\bar{\\sigma}_u  &= e^{uG} G \\sigma_u - e^{uG} (G + X) \\sigma_u \\\\\n",
    "&= - e^{uG} X \\sigma_u \\\\\n",
    "&= - e^{uG} X e^{-uG} \\bar{\\sigma}_u \\\\\n",
    "&= - X_{(-i\\hbar u)} \\bar{\\sigma}_u \\\\\n",
    "\\therefore \\bar{\\sigma}_\\beta &= e^{-\\int^{\\beta}_0 du X_{(-i \\hbar u)}} \\\\\n",
    "\\therefore \\sigma_\\beta &= e^{-uG} e^{-\\int^{\\beta}_0 du X_{(-i \\hbar u)}} \\\\\n",
    "\\end{align*}\n",
    "$$"
   ]
  },
  {
   "cell_type": "markdown",
   "metadata": {},
   "source": [
    "$$\n",
    "\\begin{align*}\n",
    "\\sigma_\\beta\n",
    "&= e^{-\\beta G} e^{-\\int^{\\beta}_0 du X_{(-i \\hbar u)}} \\\\\n",
    "&= e^{-\\beta G} \\left( 1 - \\int^{\\beta}_0 du X_{(-i \\hbar u)} \\right) + \\text{O}_{(X^2)} \\\\\n",
    "\\sigma_\\beta\n",
    "&= e^{-\\int^{\\beta}_0 du X_{(i \\hbar u)}} e^{-uG} \\ \\ \\ \\ \\ (\\because \\sigma_\\beta \\text{はエルミート}) \\\\\n",
    "&= \\left( 1 - \\int^{\\beta}_0 du X_{(i \\hbar u)} \\right) e^{-\\beta G} + \\text{O}_{(X^2)} \\\\\n",
    "\\therefore \\sigma_\\beta\n",
    "&\\simeq e^{-\\beta G} - \\int^{\\beta}_0 du \\frac12 \\left[ e^{-\\beta G} X_{(-i \\hbar u)} + X_{(i \\hbar u)} e^{-\\beta G} \\right]\n",
    "\\end{align*}\n",
    "$$"
   ]
  },
  {
   "cell_type": "markdown",
   "metadata": {},
   "source": [
    "- $\\text{Tr} [e^{-u (G + X)}]$を計算する"
   ]
  },
  {
   "cell_type": "markdown",
   "metadata": {},
   "source": [
    "$$\n",
    "\\begin{align*}\n",
    "\\text{Tr} \\left[ e^{-u (G+X)} \\right] &\\simeq \\text{Tr}\\left[ e^{-\\beta G} - \\int^{\\beta}_0 du \\frac12 \\left[ e^{-\\beta G} X_{(-i \\hbar u)} + X_{(i \\hbar u)} e^{-\\beta G} \\right] \\right] \\\\\n",
    "&= \\text{Tr}\\left[ e^{-\\beta G} \\right] - \\int^{\\beta}_0 du \\frac12 \\left( \\text{Tr}\\left[ e^{-\\beta G} X_{(-i \\hbar u)} \\right] + \\text{Tr}\\left[ X_{(i \\hbar u)} e^{-\\beta G} \\right] \\right) \\\\\n",
    "&= Z - \\int^{\\beta}_0 du \\frac{1}{2} ( Z \\langle X_{(-i \\hbar u)} \\rangle_{eq} + Z \\langle X_{(i \\hbar u)} \\rangle_{eq}) \\\\\n",
    "&= Z \\left( 1 - \\int^{\\beta}_0 du \\frac{1}{2} ( \\langle X_{(-i \\hbar u)} \\rangle_{eq} + \\langle X_{(i \\hbar u)} \\rangle_{eq}) \\right)\n",
    "\\end{align*}\n",
    "$$"
   ]
  },
  {
   "cell_type": "markdown",
   "metadata": {},
   "source": [
    "- 分配関数$\\rho_0$を計算する $\\cdots (2.54)$"
   ]
  },
  {
   "cell_type": "markdown",
   "metadata": {},
   "source": [
    "$$\n",
    "\\frac{1}{1-x} = 1 + x + \\text{O}_{(x^2)}\n",
    "$$"
   ]
  },
  {
   "cell_type": "markdown",
   "metadata": {},
   "source": [
    "$$\n",
    "\\begin{align*}\n",
    "\\rho_0 &= \\frac{e^{-\\beta (G + X)}}{\\text{Tr} e^{-\\beta (G + X)}} \\\\\n",
    "&\\simeq \\left( e^{-\\beta G} - \\int^{\\beta}_0 du \\frac12 \\left[ e^{-\\beta G} X_{(-i \\hbar u)} + X_{(i \\hbar u)} e^{-\\beta G} \\right] \\right) \\frac{1}{Z} \\left( 1 + \\int^{\\beta}_0 du \\frac{1}{2} ( \\langle X_{(-i \\hbar u)} \\rangle_{eq} + \\langle X_{(i \\hbar u)} \\rangle_{eq}) \\right) \\\\\n",
    "&= \\left( \\pi - \\int^{\\beta}_0 du \\frac12 \\left[ \\pi X_{(-i \\hbar u)} + X_{(i \\hbar u)} \\pi \\right] \\right) \\left( 1 + \\int^{\\beta}_0 du \\frac{1}{2} ( \\langle X_{(-i \\hbar u)} \\rangle_{eq} + \\langle X_{(i \\hbar u)} \\rangle_{eq}) \\right) \\\\\n",
    "&\\simeq \\pi - \\int^{\\beta}_0 du \\frac12 \\left[ \\pi X_{(-i \\hbar u)} + X_{(i \\hbar u)} \\pi \\right] + \\int^{\\beta}_0 du \\frac{1}{2} ( \\pi \\langle X_{(-i \\hbar u)} \\rangle_{eq} + \\langle X_{(i \\hbar u)} \\rangle_{eq} \\pi) \\\\\n",
    "&= \\pi - \\int^{\\beta}_0 du \\frac12 \\left[ \\pi \\Delta X_{(-i \\hbar u)} + \\Delta X_{(i \\hbar u)} \\pi \\right]\n",
    "\\end{align*}\n",
    "$$"
   ]
  },
  {
   "cell_type": "markdown",
   "metadata": {},
   "source": [
    "演算子の時間発展 $\\cdots (2.55)$"
   ]
  },
  {
   "cell_type": "markdown",
   "metadata": {},
   "source": [
    "$$\n",
    "\\begin{align*}\n",
    "\\langle A_{(\\tau)} \\rangle_{eq}\n",
    "&= \\text{Tr}[ \\rho_0 U^{\\dagger} A U] \\\\\n",
    "&= \\text{Tr}[A U \\rho_0 U^{\\dagger}] \\\\\n",
    "&= \\text{Tr}[AU\\pi U^{\\dagger}] - \\int^{\\beta}_0 du \\frac12 \\left( \\text{Tr}[AU\\pi\\Delta X_{(-i \\hbar u)}U^{\\dagger}] + \\text{Tr}[AU\\Delta X_{(i \\hbar u)} \\pi U^{\\dagger}] \\right) \\\\\n",
    "&= \\text{Tr}[\\pi A] - \\int^{\\beta}_0 du \\frac12 \\left( \\text{Tr}[\\pi\\Delta X_{(-i \\hbar u - \\tau)} A] + \\text{Tr}[\\pi A\\Delta X_{(i \\hbar u - \\tau)}] \\right) \\\\\n",
    "&= \\langle A \\rangle_{eq} - \\int^{\\beta}_0 du \\frac12 \\left[ \\langle \\Delta X_{(-i \\hbar u - \\tau)} A \\rangle_{eq} +  \\langle A\\Delta X_{(i \\hbar u - \\tau)} \\rangle_{eq} \\right] \\\\\n",
    "&= \\langle A \\rangle_{eq} + \\int^{\\beta}_0 du \\int^0_{-\\tau} dt \\frac12 \\left[ \\langle \\Delta \\dot{X}_{(-i \\hbar u + t)} \\rangle_{eq} + \\langle A \\Delta \\dot{X}_{(i \\hbar u + t)} \\rangle_{eq} \\right] - \\int^{\\beta}_0 du \\frac12 \\left( \\langle \\Delta X_{(-i \\hbar u)} A \\rangle_{eq} +  \\langle A\\Delta X_{(i \\hbar u)} \\rangle_{eq} \\right)\n",
    "\\end{align*}\n",
    "$$"
   ]
  }
 ],
 "metadata": {
  "kernelspec": {
   "display_name": "Python 3",
   "language": "python",
   "name": "python3"
  },
  "language_info": {
   "codemirror_mode": {
    "name": "ipython",
    "version": 3
   },
   "file_extension": ".py",
   "mimetype": "text/x-python",
   "name": "python",
   "nbconvert_exporter": "python",
   "pygments_lexer": "ipython3",
   "version": "3.9.6"
  }
 },
 "nbformat": 4,
 "nbformat_minor": 2
}
